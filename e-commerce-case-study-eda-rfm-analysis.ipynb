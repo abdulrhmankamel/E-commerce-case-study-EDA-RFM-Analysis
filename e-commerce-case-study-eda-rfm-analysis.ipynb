{
 "cells": [
  {
   "cell_type": "code",
   "execution_count": 1,
   "id": "bdb16444",
   "metadata": {
    "_cell_guid": "b1076dfc-b9ad-4769-8c92-a6c4dae69d19",
    "_uuid": "8f2839f25d086af736a60e9eeb907d3b93b6e0e5",
    "execution": {
     "iopub.execute_input": "2024-05-10T13:45:53.628460Z",
     "iopub.status.busy": "2024-05-10T13:45:53.628064Z",
     "iopub.status.idle": "2024-05-10T13:45:54.525598Z",
     "shell.execute_reply": "2024-05-10T13:45:54.524231Z"
    },
    "papermill": {
     "duration": 0.912787,
     "end_time": "2024-05-10T13:45:54.528029",
     "exception": false,
     "start_time": "2024-05-10T13:45:53.615242",
     "status": "completed"
    },
    "tags": []
   },
   "outputs": [
    {
     "name": "stdout",
     "output_type": "stream",
     "text": [
      "/kaggle/input/ecommerce-data/data.csv\n"
     ]
    }
   ],
   "source": [
    "# This Python 3 environment comes with many helpful analytics libraries installed\n",
    "# It is defined by the kaggle/python Docker image: https://github.com/kaggle/docker-python\n",
    "# For example, here's several helpful packages to load\n",
    "\n",
    "import numpy as np # linear algebra\n",
    "import pandas as pd # data processing, CSV file I/O (e.g. pd.read_csv)\n",
    "\n",
    "# Input data files are available in the read-only \"../input/\" directory\n",
    "# For example, running this (by clicking run or pressing Shift+Enter) will list all files under the input directory\n",
    "\n",
    "import os\n",
    "for dirname, _, filenames in os.walk('/kaggle/input'):\n",
    "    for filename in filenames:\n",
    "        print(os.path.join(dirname, filename))\n",
    "\n",
    "# You can write up to 20GB to the current directory (/kaggle/working/) that gets preserved as output when you create a version using \"Save & Run All\" \n",
    "# You can also write temporary files to /kaggle/temp/, but they won't be saved outside of the current session"
   ]
  },
  {
   "cell_type": "markdown",
   "id": "c92c614b",
   "metadata": {
    "papermill": {
     "duration": 0.010221,
     "end_time": "2024-05-10T13:45:54.549160",
     "exception": false,
     "start_time": "2024-05-10T13:45:54.538939",
     "status": "completed"
    },
    "tags": []
   },
   "source": [
    "# Objective¶\n",
    "****The goal of this analysis is to segment customers using the  RFM (Recency, Frequency, Monetary) analysis. This segmentation helps in understanding customer behavior, identifying high-value customers, and tailoring marketing strategies accordingly.****"
   ]
  },
  {
   "cell_type": "code",
   "execution_count": 2,
   "id": "a8e961a6",
   "metadata": {
    "execution": {
     "iopub.execute_input": "2024-05-10T13:45:54.571892Z",
     "iopub.status.busy": "2024-05-10T13:45:54.571401Z",
     "iopub.status.idle": "2024-05-10T13:45:57.378910Z",
     "shell.execute_reply": "2024-05-10T13:45:57.377886Z"
    },
    "papermill": {
     "duration": 2.821849,
     "end_time": "2024-05-10T13:45:57.381402",
     "exception": false,
     "start_time": "2024-05-10T13:45:54.559553",
     "status": "completed"
    },
    "tags": []
   },
   "outputs": [],
   "source": [
    "from datetime import datetime \n",
    "import matplotlib.pyplot as plt\n",
    "import seaborn as sns\n",
    "df = pd.read_csv(\"/kaggle/input/ecommerce-data/data.csv\", encoding='unicode_escape')"
   ]
  },
  {
   "cell_type": "code",
   "execution_count": 3,
   "id": "176c0bed",
   "metadata": {
    "execution": {
     "iopub.execute_input": "2024-05-10T13:45:57.405747Z",
     "iopub.status.busy": "2024-05-10T13:45:57.405350Z",
     "iopub.status.idle": "2024-05-10T13:45:57.412673Z",
     "shell.execute_reply": "2024-05-10T13:45:57.411455Z"
    },
    "papermill": {
     "duration": 0.021714,
     "end_time": "2024-05-10T13:45:57.415368",
     "exception": false,
     "start_time": "2024-05-10T13:45:57.393654",
     "status": "completed"
    },
    "tags": []
   },
   "outputs": [
    {
     "name": "stdout",
     "output_type": "stream",
     "text": [
      "(541909, 8)\n",
      "Index(['InvoiceNo', 'StockCode', 'Description', 'Quantity', 'InvoiceDate',\n",
      "       'UnitPrice', 'CustomerID', 'Country'],\n",
      "      dtype='object')\n"
     ]
    }
   ],
   "source": [
    "print(df.shape)\n",
    "print(df.columns)"
   ]
  },
  {
   "cell_type": "code",
   "execution_count": 4,
   "id": "fbf1b751",
   "metadata": {
    "execution": {
     "iopub.execute_input": "2024-05-10T13:45:57.439589Z",
     "iopub.status.busy": "2024-05-10T13:45:57.439167Z",
     "iopub.status.idle": "2024-05-10T13:45:57.463426Z",
     "shell.execute_reply": "2024-05-10T13:45:57.462373Z"
    },
    "papermill": {
     "duration": 0.039751,
     "end_time": "2024-05-10T13:45:57.465683",
     "exception": false,
     "start_time": "2024-05-10T13:45:57.425932",
     "status": "completed"
    },
    "tags": []
   },
   "outputs": [
    {
     "data": {
      "text/html": [
       "<div>\n",
       "<style scoped>\n",
       "    .dataframe tbody tr th:only-of-type {\n",
       "        vertical-align: middle;\n",
       "    }\n",
       "\n",
       "    .dataframe tbody tr th {\n",
       "        vertical-align: top;\n",
       "    }\n",
       "\n",
       "    .dataframe thead th {\n",
       "        text-align: right;\n",
       "    }\n",
       "</style>\n",
       "<table border=\"1\" class=\"dataframe\">\n",
       "  <thead>\n",
       "    <tr style=\"text-align: right;\">\n",
       "      <th></th>\n",
       "      <th>InvoiceNo</th>\n",
       "      <th>StockCode</th>\n",
       "      <th>Description</th>\n",
       "      <th>Quantity</th>\n",
       "      <th>InvoiceDate</th>\n",
       "      <th>UnitPrice</th>\n",
       "      <th>CustomerID</th>\n",
       "      <th>Country</th>\n",
       "    </tr>\n",
       "  </thead>\n",
       "  <tbody>\n",
       "    <tr>\n",
       "      <th>0</th>\n",
       "      <td>536365</td>\n",
       "      <td>85123A</td>\n",
       "      <td>WHITE HANGING HEART T-LIGHT HOLDER</td>\n",
       "      <td>6</td>\n",
       "      <td>12/1/2010 8:26</td>\n",
       "      <td>2.55</td>\n",
       "      <td>17850.0</td>\n",
       "      <td>United Kingdom</td>\n",
       "    </tr>\n",
       "    <tr>\n",
       "      <th>1</th>\n",
       "      <td>536365</td>\n",
       "      <td>71053</td>\n",
       "      <td>WHITE METAL LANTERN</td>\n",
       "      <td>6</td>\n",
       "      <td>12/1/2010 8:26</td>\n",
       "      <td>3.39</td>\n",
       "      <td>17850.0</td>\n",
       "      <td>United Kingdom</td>\n",
       "    </tr>\n",
       "    <tr>\n",
       "      <th>2</th>\n",
       "      <td>536365</td>\n",
       "      <td>84406B</td>\n",
       "      <td>CREAM CUPID HEARTS COAT HANGER</td>\n",
       "      <td>8</td>\n",
       "      <td>12/1/2010 8:26</td>\n",
       "      <td>2.75</td>\n",
       "      <td>17850.0</td>\n",
       "      <td>United Kingdom</td>\n",
       "    </tr>\n",
       "    <tr>\n",
       "      <th>3</th>\n",
       "      <td>536365</td>\n",
       "      <td>84029G</td>\n",
       "      <td>KNITTED UNION FLAG HOT WATER BOTTLE</td>\n",
       "      <td>6</td>\n",
       "      <td>12/1/2010 8:26</td>\n",
       "      <td>3.39</td>\n",
       "      <td>17850.0</td>\n",
       "      <td>United Kingdom</td>\n",
       "    </tr>\n",
       "    <tr>\n",
       "      <th>4</th>\n",
       "      <td>536365</td>\n",
       "      <td>84029E</td>\n",
       "      <td>RED WOOLLY HOTTIE WHITE HEART.</td>\n",
       "      <td>6</td>\n",
       "      <td>12/1/2010 8:26</td>\n",
       "      <td>3.39</td>\n",
       "      <td>17850.0</td>\n",
       "      <td>United Kingdom</td>\n",
       "    </tr>\n",
       "  </tbody>\n",
       "</table>\n",
       "</div>"
      ],
      "text/plain": [
       "  InvoiceNo StockCode                          Description  Quantity  \\\n",
       "0    536365    85123A   WHITE HANGING HEART T-LIGHT HOLDER         6   \n",
       "1    536365     71053                  WHITE METAL LANTERN         6   \n",
       "2    536365    84406B       CREAM CUPID HEARTS COAT HANGER         8   \n",
       "3    536365    84029G  KNITTED UNION FLAG HOT WATER BOTTLE         6   \n",
       "4    536365    84029E       RED WOOLLY HOTTIE WHITE HEART.         6   \n",
       "\n",
       "      InvoiceDate  UnitPrice  CustomerID         Country  \n",
       "0  12/1/2010 8:26       2.55     17850.0  United Kingdom  \n",
       "1  12/1/2010 8:26       3.39     17850.0  United Kingdom  \n",
       "2  12/1/2010 8:26       2.75     17850.0  United Kingdom  \n",
       "3  12/1/2010 8:26       3.39     17850.0  United Kingdom  \n",
       "4  12/1/2010 8:26       3.39     17850.0  United Kingdom  "
      ]
     },
     "execution_count": 4,
     "metadata": {},
     "output_type": "execute_result"
    }
   ],
   "source": [
    "df.head()"
   ]
  },
  {
   "cell_type": "code",
   "execution_count": 5,
   "id": "ee62a57b",
   "metadata": {
    "execution": {
     "iopub.execute_input": "2024-05-10T13:45:57.489024Z",
     "iopub.status.busy": "2024-05-10T13:45:57.488577Z",
     "iopub.status.idle": "2024-05-10T13:45:57.637395Z",
     "shell.execute_reply": "2024-05-10T13:45:57.636198Z"
    },
    "papermill": {
     "duration": 0.163141,
     "end_time": "2024-05-10T13:45:57.639650",
     "exception": false,
     "start_time": "2024-05-10T13:45:57.476509",
     "status": "completed"
    },
    "tags": []
   },
   "outputs": [
    {
     "name": "stdout",
     "output_type": "stream",
     "text": [
      "<class 'pandas.core.frame.DataFrame'>\n",
      "RangeIndex: 541909 entries, 0 to 541908\n",
      "Data columns (total 8 columns):\n",
      " #   Column       Non-Null Count   Dtype  \n",
      "---  ------       --------------   -----  \n",
      " 0   InvoiceNo    541909 non-null  object \n",
      " 1   StockCode    541909 non-null  object \n",
      " 2   Description  540455 non-null  object \n",
      " 3   Quantity     541909 non-null  int64  \n",
      " 4   InvoiceDate  541909 non-null  object \n",
      " 5   UnitPrice    541909 non-null  float64\n",
      " 6   CustomerID   406829 non-null  float64\n",
      " 7   Country      541909 non-null  object \n",
      "dtypes: float64(2), int64(1), object(5)\n",
      "memory usage: 33.1+ MB\n"
     ]
    }
   ],
   "source": [
    "df.info()"
   ]
  },
  {
   "cell_type": "markdown",
   "id": "8d64c11d",
   "metadata": {
    "papermill": {
     "duration": 0.010684,
     "end_time": "2024-05-10T13:45:57.661596",
     "exception": false,
     "start_time": "2024-05-10T13:45:57.650912",
     "status": "completed"
    },
    "tags": []
   },
   "source": [
    "**Data Cleaning**"
   ]
  },
  {
   "cell_type": "code",
   "execution_count": 6,
   "id": "8842e143",
   "metadata": {
    "execution": {
     "iopub.execute_input": "2024-05-10T13:45:57.688244Z",
     "iopub.status.busy": "2024-05-10T13:45:57.687839Z",
     "iopub.status.idle": "2024-05-10T13:45:57.868822Z",
     "shell.execute_reply": "2024-05-10T13:45:57.867790Z"
    },
    "papermill": {
     "duration": 0.196711,
     "end_time": "2024-05-10T13:45:57.871234",
     "exception": false,
     "start_time": "2024-05-10T13:45:57.674523",
     "status": "completed"
    },
    "tags": []
   },
   "outputs": [
    {
     "data": {
      "text/plain": [
       "InvoiceDate\n",
       "15    301446\n",
       "16    118449\n",
       "14    114913\n",
       "13      7101\n",
       "Name: count, dtype: int64"
      ]
     },
     "execution_count": 6,
     "metadata": {},
     "output_type": "execute_result"
    }
   ],
   "source": [
    "#Parsing Dates\n",
    "#date_lengths=16 :12/12/2010 12:26\n",
    "#date_lengths=15 :12/12/2010 8:26\n",
    "#date_lengths=14 :12/1/2010 8:26\n",
    "#date_lengths=13 :1/1/2010 8:26\n",
    "date_lengths = df.InvoiceDate.str.len()\n",
    "date_lengths.value_counts()"
   ]
  },
  {
   "cell_type": "code",
   "execution_count": 7,
   "id": "f6bb0c8e",
   "metadata": {
    "execution": {
     "iopub.execute_input": "2024-05-10T13:45:57.895473Z",
     "iopub.status.busy": "2024-05-10T13:45:57.895071Z",
     "iopub.status.idle": "2024-05-10T13:46:03.766048Z",
     "shell.execute_reply": "2024-05-10T13:46:03.765003Z"
    },
    "papermill": {
     "duration": 5.8863,
     "end_time": "2024-05-10T13:46:03.768622",
     "exception": false,
     "start_time": "2024-05-10T13:45:57.882322",
     "status": "completed"
    },
    "tags": []
   },
   "outputs": [],
   "source": [
    "df[\"InvoiceDate\"] = pd.to_datetime(df[\"InvoiceDate\"], format=\"%m/%d/%Y %H:%M\")\n",
    "df[\"Invoice_Date\"] = df[\"InvoiceDate\"].dt.strftime(\"%m/%d/%Y\")\n",
    "df[\"Invoice_Time\"] = df[\"InvoiceDate\"].dt.strftime(\"%H:%M\")"
   ]
  },
  {
   "cell_type": "code",
   "execution_count": 8,
   "id": "f210bd96",
   "metadata": {
    "execution": {
     "iopub.execute_input": "2024-05-10T13:46:03.792201Z",
     "iopub.status.busy": "2024-05-10T13:46:03.791839Z",
     "iopub.status.idle": "2024-05-10T13:46:03.807745Z",
     "shell.execute_reply": "2024-05-10T13:46:03.806693Z"
    },
    "papermill": {
     "duration": 0.030208,
     "end_time": "2024-05-10T13:46:03.809877",
     "exception": false,
     "start_time": "2024-05-10T13:46:03.779669",
     "status": "completed"
    },
    "tags": []
   },
   "outputs": [
    {
     "data": {
      "text/html": [
       "<div>\n",
       "<style scoped>\n",
       "    .dataframe tbody tr th:only-of-type {\n",
       "        vertical-align: middle;\n",
       "    }\n",
       "\n",
       "    .dataframe tbody tr th {\n",
       "        vertical-align: top;\n",
       "    }\n",
       "\n",
       "    .dataframe thead th {\n",
       "        text-align: right;\n",
       "    }\n",
       "</style>\n",
       "<table border=\"1\" class=\"dataframe\">\n",
       "  <thead>\n",
       "    <tr style=\"text-align: right;\">\n",
       "      <th></th>\n",
       "      <th>InvoiceNo</th>\n",
       "      <th>StockCode</th>\n",
       "      <th>Description</th>\n",
       "      <th>Quantity</th>\n",
       "      <th>InvoiceDate</th>\n",
       "      <th>UnitPrice</th>\n",
       "      <th>CustomerID</th>\n",
       "      <th>Country</th>\n",
       "      <th>Invoice_Date</th>\n",
       "      <th>Invoice_Time</th>\n",
       "    </tr>\n",
       "  </thead>\n",
       "  <tbody>\n",
       "    <tr>\n",
       "      <th>0</th>\n",
       "      <td>536365</td>\n",
       "      <td>85123A</td>\n",
       "      <td>WHITE HANGING HEART T-LIGHT HOLDER</td>\n",
       "      <td>6</td>\n",
       "      <td>2010-12-01 08:26:00</td>\n",
       "      <td>2.55</td>\n",
       "      <td>17850.0</td>\n",
       "      <td>United Kingdom</td>\n",
       "      <td>12/01/2010</td>\n",
       "      <td>08:26</td>\n",
       "    </tr>\n",
       "    <tr>\n",
       "      <th>1</th>\n",
       "      <td>536365</td>\n",
       "      <td>71053</td>\n",
       "      <td>WHITE METAL LANTERN</td>\n",
       "      <td>6</td>\n",
       "      <td>2010-12-01 08:26:00</td>\n",
       "      <td>3.39</td>\n",
       "      <td>17850.0</td>\n",
       "      <td>United Kingdom</td>\n",
       "      <td>12/01/2010</td>\n",
       "      <td>08:26</td>\n",
       "    </tr>\n",
       "    <tr>\n",
       "      <th>2</th>\n",
       "      <td>536365</td>\n",
       "      <td>84406B</td>\n",
       "      <td>CREAM CUPID HEARTS COAT HANGER</td>\n",
       "      <td>8</td>\n",
       "      <td>2010-12-01 08:26:00</td>\n",
       "      <td>2.75</td>\n",
       "      <td>17850.0</td>\n",
       "      <td>United Kingdom</td>\n",
       "      <td>12/01/2010</td>\n",
       "      <td>08:26</td>\n",
       "    </tr>\n",
       "    <tr>\n",
       "      <th>3</th>\n",
       "      <td>536365</td>\n",
       "      <td>84029G</td>\n",
       "      <td>KNITTED UNION FLAG HOT WATER BOTTLE</td>\n",
       "      <td>6</td>\n",
       "      <td>2010-12-01 08:26:00</td>\n",
       "      <td>3.39</td>\n",
       "      <td>17850.0</td>\n",
       "      <td>United Kingdom</td>\n",
       "      <td>12/01/2010</td>\n",
       "      <td>08:26</td>\n",
       "    </tr>\n",
       "    <tr>\n",
       "      <th>4</th>\n",
       "      <td>536365</td>\n",
       "      <td>84029E</td>\n",
       "      <td>RED WOOLLY HOTTIE WHITE HEART.</td>\n",
       "      <td>6</td>\n",
       "      <td>2010-12-01 08:26:00</td>\n",
       "      <td>3.39</td>\n",
       "      <td>17850.0</td>\n",
       "      <td>United Kingdom</td>\n",
       "      <td>12/01/2010</td>\n",
       "      <td>08:26</td>\n",
       "    </tr>\n",
       "  </tbody>\n",
       "</table>\n",
       "</div>"
      ],
      "text/plain": [
       "  InvoiceNo StockCode                          Description  Quantity  \\\n",
       "0    536365    85123A   WHITE HANGING HEART T-LIGHT HOLDER         6   \n",
       "1    536365     71053                  WHITE METAL LANTERN         6   \n",
       "2    536365    84406B       CREAM CUPID HEARTS COAT HANGER         8   \n",
       "3    536365    84029G  KNITTED UNION FLAG HOT WATER BOTTLE         6   \n",
       "4    536365    84029E       RED WOOLLY HOTTIE WHITE HEART.         6   \n",
       "\n",
       "          InvoiceDate  UnitPrice  CustomerID         Country Invoice_Date  \\\n",
       "0 2010-12-01 08:26:00       2.55     17850.0  United Kingdom   12/01/2010   \n",
       "1 2010-12-01 08:26:00       3.39     17850.0  United Kingdom   12/01/2010   \n",
       "2 2010-12-01 08:26:00       2.75     17850.0  United Kingdom   12/01/2010   \n",
       "3 2010-12-01 08:26:00       3.39     17850.0  United Kingdom   12/01/2010   \n",
       "4 2010-12-01 08:26:00       3.39     17850.0  United Kingdom   12/01/2010   \n",
       "\n",
       "  Invoice_Time  \n",
       "0        08:26  \n",
       "1        08:26  \n",
       "2        08:26  \n",
       "3        08:26  \n",
       "4        08:26  "
      ]
     },
     "execution_count": 8,
     "metadata": {},
     "output_type": "execute_result"
    }
   ],
   "source": [
    "df.head()"
   ]
  },
  {
   "cell_type": "code",
   "execution_count": 9,
   "id": "484b8be6",
   "metadata": {
    "execution": {
     "iopub.execute_input": "2024-05-10T13:46:03.834094Z",
     "iopub.status.busy": "2024-05-10T13:46:03.833733Z",
     "iopub.status.idle": "2024-05-10T13:46:04.818816Z",
     "shell.execute_reply": "2024-05-10T13:46:04.817603Z"
    },
    "papermill": {
     "duration": 0.999837,
     "end_time": "2024-05-10T13:46:04.821130",
     "exception": false,
     "start_time": "2024-05-10T13:46:03.821293",
     "status": "completed"
    },
    "tags": []
   },
   "outputs": [
    {
     "name": "stdout",
     "output_type": "stream",
     "text": [
      "5268\n"
     ]
    },
    {
     "data": {
      "text/html": [
       "<div>\n",
       "<style scoped>\n",
       "    .dataframe tbody tr th:only-of-type {\n",
       "        vertical-align: middle;\n",
       "    }\n",
       "\n",
       "    .dataframe tbody tr th {\n",
       "        vertical-align: top;\n",
       "    }\n",
       "\n",
       "    .dataframe thead th {\n",
       "        text-align: right;\n",
       "    }\n",
       "</style>\n",
       "<table border=\"1\" class=\"dataframe\">\n",
       "  <thead>\n",
       "    <tr style=\"text-align: right;\">\n",
       "      <th></th>\n",
       "      <th>InvoiceNo</th>\n",
       "      <th>StockCode</th>\n",
       "      <th>Description</th>\n",
       "      <th>Quantity</th>\n",
       "      <th>InvoiceDate</th>\n",
       "      <th>UnitPrice</th>\n",
       "      <th>CustomerID</th>\n",
       "      <th>Country</th>\n",
       "      <th>Invoice_Date</th>\n",
       "      <th>Invoice_Time</th>\n",
       "    </tr>\n",
       "  </thead>\n",
       "  <tbody>\n",
       "    <tr>\n",
       "      <th>517</th>\n",
       "      <td>536409</td>\n",
       "      <td>21866</td>\n",
       "      <td>UNION JACK FLAG LUGGAGE TAG</td>\n",
       "      <td>1</td>\n",
       "      <td>2010-12-01 11:45:00</td>\n",
       "      <td>1.25</td>\n",
       "      <td>17908.0</td>\n",
       "      <td>United Kingdom</td>\n",
       "      <td>12/01/2010</td>\n",
       "      <td>11:45</td>\n",
       "    </tr>\n",
       "    <tr>\n",
       "      <th>527</th>\n",
       "      <td>536409</td>\n",
       "      <td>22866</td>\n",
       "      <td>HAND WARMER SCOTTY DOG DESIGN</td>\n",
       "      <td>1</td>\n",
       "      <td>2010-12-01 11:45:00</td>\n",
       "      <td>2.10</td>\n",
       "      <td>17908.0</td>\n",
       "      <td>United Kingdom</td>\n",
       "      <td>12/01/2010</td>\n",
       "      <td>11:45</td>\n",
       "    </tr>\n",
       "    <tr>\n",
       "      <th>537</th>\n",
       "      <td>536409</td>\n",
       "      <td>22900</td>\n",
       "      <td>SET 2 TEA TOWELS I LOVE LONDON</td>\n",
       "      <td>1</td>\n",
       "      <td>2010-12-01 11:45:00</td>\n",
       "      <td>2.95</td>\n",
       "      <td>17908.0</td>\n",
       "      <td>United Kingdom</td>\n",
       "      <td>12/01/2010</td>\n",
       "      <td>11:45</td>\n",
       "    </tr>\n",
       "    <tr>\n",
       "      <th>539</th>\n",
       "      <td>536409</td>\n",
       "      <td>22111</td>\n",
       "      <td>SCOTTIE DOG HOT WATER BOTTLE</td>\n",
       "      <td>1</td>\n",
       "      <td>2010-12-01 11:45:00</td>\n",
       "      <td>4.95</td>\n",
       "      <td>17908.0</td>\n",
       "      <td>United Kingdom</td>\n",
       "      <td>12/01/2010</td>\n",
       "      <td>11:45</td>\n",
       "    </tr>\n",
       "    <tr>\n",
       "      <th>555</th>\n",
       "      <td>536412</td>\n",
       "      <td>22327</td>\n",
       "      <td>ROUND SNACK BOXES SET OF 4 SKULLS</td>\n",
       "      <td>1</td>\n",
       "      <td>2010-12-01 11:49:00</td>\n",
       "      <td>2.95</td>\n",
       "      <td>17920.0</td>\n",
       "      <td>United Kingdom</td>\n",
       "      <td>12/01/2010</td>\n",
       "      <td>11:49</td>\n",
       "    </tr>\n",
       "    <tr>\n",
       "      <th>...</th>\n",
       "      <td>...</td>\n",
       "      <td>...</td>\n",
       "      <td>...</td>\n",
       "      <td>...</td>\n",
       "      <td>...</td>\n",
       "      <td>...</td>\n",
       "      <td>...</td>\n",
       "      <td>...</td>\n",
       "      <td>...</td>\n",
       "      <td>...</td>\n",
       "    </tr>\n",
       "    <tr>\n",
       "      <th>541675</th>\n",
       "      <td>581538</td>\n",
       "      <td>22068</td>\n",
       "      <td>BLACK PIRATE TREASURE CHEST</td>\n",
       "      <td>1</td>\n",
       "      <td>2011-12-09 11:34:00</td>\n",
       "      <td>0.39</td>\n",
       "      <td>14446.0</td>\n",
       "      <td>United Kingdom</td>\n",
       "      <td>12/09/2011</td>\n",
       "      <td>11:34</td>\n",
       "    </tr>\n",
       "    <tr>\n",
       "      <th>541689</th>\n",
       "      <td>581538</td>\n",
       "      <td>23318</td>\n",
       "      <td>BOX OF 6 MINI VINTAGE CRACKERS</td>\n",
       "      <td>1</td>\n",
       "      <td>2011-12-09 11:34:00</td>\n",
       "      <td>2.49</td>\n",
       "      <td>14446.0</td>\n",
       "      <td>United Kingdom</td>\n",
       "      <td>12/09/2011</td>\n",
       "      <td>11:34</td>\n",
       "    </tr>\n",
       "    <tr>\n",
       "      <th>541692</th>\n",
       "      <td>581538</td>\n",
       "      <td>22992</td>\n",
       "      <td>REVOLVER WOODEN RULER</td>\n",
       "      <td>1</td>\n",
       "      <td>2011-12-09 11:34:00</td>\n",
       "      <td>1.95</td>\n",
       "      <td>14446.0</td>\n",
       "      <td>United Kingdom</td>\n",
       "      <td>12/09/2011</td>\n",
       "      <td>11:34</td>\n",
       "    </tr>\n",
       "    <tr>\n",
       "      <th>541699</th>\n",
       "      <td>581538</td>\n",
       "      <td>22694</td>\n",
       "      <td>WICKER STAR</td>\n",
       "      <td>1</td>\n",
       "      <td>2011-12-09 11:34:00</td>\n",
       "      <td>2.10</td>\n",
       "      <td>14446.0</td>\n",
       "      <td>United Kingdom</td>\n",
       "      <td>12/09/2011</td>\n",
       "      <td>11:34</td>\n",
       "    </tr>\n",
       "    <tr>\n",
       "      <th>541701</th>\n",
       "      <td>581538</td>\n",
       "      <td>23343</td>\n",
       "      <td>JUMBO BAG VINTAGE CHRISTMAS</td>\n",
       "      <td>1</td>\n",
       "      <td>2011-12-09 11:34:00</td>\n",
       "      <td>2.08</td>\n",
       "      <td>14446.0</td>\n",
       "      <td>United Kingdom</td>\n",
       "      <td>12/09/2011</td>\n",
       "      <td>11:34</td>\n",
       "    </tr>\n",
       "  </tbody>\n",
       "</table>\n",
       "<p>5268 rows × 10 columns</p>\n",
       "</div>"
      ],
      "text/plain": [
       "       InvoiceNo StockCode                        Description  Quantity  \\\n",
       "517       536409     21866        UNION JACK FLAG LUGGAGE TAG         1   \n",
       "527       536409     22866      HAND WARMER SCOTTY DOG DESIGN         1   \n",
       "537       536409     22900    SET 2 TEA TOWELS I LOVE LONDON          1   \n",
       "539       536409     22111       SCOTTIE DOG HOT WATER BOTTLE         1   \n",
       "555       536412     22327  ROUND SNACK BOXES SET OF 4 SKULLS         1   \n",
       "...          ...       ...                                ...       ...   \n",
       "541675    581538     22068        BLACK PIRATE TREASURE CHEST         1   \n",
       "541689    581538     23318     BOX OF 6 MINI VINTAGE CRACKERS         1   \n",
       "541692    581538     22992             REVOLVER WOODEN RULER          1   \n",
       "541699    581538     22694                       WICKER STAR          1   \n",
       "541701    581538     23343       JUMBO BAG VINTAGE CHRISTMAS          1   \n",
       "\n",
       "               InvoiceDate  UnitPrice  CustomerID         Country  \\\n",
       "517    2010-12-01 11:45:00       1.25     17908.0  United Kingdom   \n",
       "527    2010-12-01 11:45:00       2.10     17908.0  United Kingdom   \n",
       "537    2010-12-01 11:45:00       2.95     17908.0  United Kingdom   \n",
       "539    2010-12-01 11:45:00       4.95     17908.0  United Kingdom   \n",
       "555    2010-12-01 11:49:00       2.95     17920.0  United Kingdom   \n",
       "...                    ...        ...         ...             ...   \n",
       "541675 2011-12-09 11:34:00       0.39     14446.0  United Kingdom   \n",
       "541689 2011-12-09 11:34:00       2.49     14446.0  United Kingdom   \n",
       "541692 2011-12-09 11:34:00       1.95     14446.0  United Kingdom   \n",
       "541699 2011-12-09 11:34:00       2.10     14446.0  United Kingdom   \n",
       "541701 2011-12-09 11:34:00       2.08     14446.0  United Kingdom   \n",
       "\n",
       "       Invoice_Date Invoice_Time  \n",
       "517      12/01/2010        11:45  \n",
       "527      12/01/2010        11:45  \n",
       "537      12/01/2010        11:45  \n",
       "539      12/01/2010        11:45  \n",
       "555      12/01/2010        11:49  \n",
       "...             ...          ...  \n",
       "541675   12/09/2011        11:34  \n",
       "541689   12/09/2011        11:34  \n",
       "541692   12/09/2011        11:34  \n",
       "541699   12/09/2011        11:34  \n",
       "541701   12/09/2011        11:34  \n",
       "\n",
       "[5268 rows x 10 columns]"
      ]
     },
     "execution_count": 9,
     "metadata": {},
     "output_type": "execute_result"
    }
   ],
   "source": [
    "#Check the duplicate values in df\n",
    "print(df.duplicated().sum())\n",
    "df[df.duplicated()==True]"
   ]
  },
  {
   "cell_type": "code",
   "execution_count": 10,
   "id": "3bc17e15",
   "metadata": {
    "execution": {
     "iopub.execute_input": "2024-05-10T13:46:04.849075Z",
     "iopub.status.busy": "2024-05-10T13:46:04.848113Z",
     "iopub.status.idle": "2024-05-10T13:46:05.859870Z",
     "shell.execute_reply": "2024-05-10T13:46:05.858572Z"
    },
    "papermill": {
     "duration": 1.027452,
     "end_time": "2024-05-10T13:46:05.862134",
     "exception": false,
     "start_time": "2024-05-10T13:46:04.834682",
     "status": "completed"
    },
    "tags": []
   },
   "outputs": [
    {
     "name": "stdout",
     "output_type": "stream",
     "text": [
      "0\n"
     ]
    }
   ],
   "source": [
    "df = df.drop_duplicates()\n",
    "print(df.duplicated().sum())"
   ]
  },
  {
   "cell_type": "code",
   "execution_count": 11,
   "id": "28c6e385",
   "metadata": {
    "execution": {
     "iopub.execute_input": "2024-05-10T13:46:05.887316Z",
     "iopub.status.busy": "2024-05-10T13:46:05.886928Z",
     "iopub.status.idle": "2024-05-10T13:46:06.042687Z",
     "shell.execute_reply": "2024-05-10T13:46:06.041481Z"
    },
    "papermill": {
     "duration": 0.171377,
     "end_time": "2024-05-10T13:46:06.045256",
     "exception": false,
     "start_time": "2024-05-10T13:46:05.873879",
     "status": "completed"
    },
    "tags": []
   },
   "outputs": [
    {
     "name": "stdout",
     "output_type": "stream",
     "text": [
      "InvoiceNo            0\n",
      "StockCode            0\n",
      "Description       1454\n",
      "Quantity             0\n",
      "InvoiceDate          0\n",
      "UnitPrice            0\n",
      "CustomerID      135037\n",
      "Country              0\n",
      "Invoice_Date         0\n",
      "Invoice_Time         0\n",
      "dtype: int64\n"
     ]
    }
   ],
   "source": [
    "#Data Cleaing: Missing Value\n",
    "print(df.isnull().sum())"
   ]
  },
  {
   "cell_type": "code",
   "execution_count": 12,
   "id": "7c92faf3",
   "metadata": {
    "execution": {
     "iopub.execute_input": "2024-05-10T13:46:06.071829Z",
     "iopub.status.busy": "2024-05-10T13:46:06.070901Z",
     "iopub.status.idle": "2024-05-10T13:46:06.412786Z",
     "shell.execute_reply": "2024-05-10T13:46:06.411600Z"
    },
    "papermill": {
     "duration": 0.358183,
     "end_time": "2024-05-10T13:46:06.415257",
     "exception": false,
     "start_time": "2024-05-10T13:46:06.057074",
     "status": "completed"
    },
    "tags": []
   },
   "outputs": [
    {
     "name": "stdout",
     "output_type": "stream",
     "text": [
      "InvoiceNo       0\n",
      "StockCode       0\n",
      "Description     0\n",
      "Quantity        0\n",
      "InvoiceDate     0\n",
      "UnitPrice       0\n",
      "CustomerID      0\n",
      "Country         0\n",
      "Invoice_Date    0\n",
      "Invoice_Time    0\n",
      "dtype: int64\n"
     ]
    }
   ],
   "source": [
    "df=df.dropna()\n",
    "print(df.isnull().sum())"
   ]
  },
  {
   "cell_type": "code",
   "execution_count": 13,
   "id": "182a13bb",
   "metadata": {
    "execution": {
     "iopub.execute_input": "2024-05-10T13:46:06.441264Z",
     "iopub.status.busy": "2024-05-10T13:46:06.440866Z",
     "iopub.status.idle": "2024-05-10T13:46:06.473715Z",
     "shell.execute_reply": "2024-05-10T13:46:06.472551Z"
    },
    "papermill": {
     "duration": 0.048478,
     "end_time": "2024-05-10T13:46:06.475856",
     "exception": false,
     "start_time": "2024-05-10T13:46:06.427378",
     "status": "completed"
    },
    "tags": []
   },
   "outputs": [
    {
     "name": "stdout",
     "output_type": "stream",
     "text": [
      "['Australia', 'Austria', 'Bahrain', 'Belgium', 'Brazil', 'Canada', 'Channel Islands', 'Cyprus', 'Czech Republic', 'Denmark', 'EIRE', 'European Community', 'Finland', 'France', 'Germany', 'Greece', 'Iceland', 'Israel', 'Italy', 'Japan', 'Lebanon', 'Lithuania', 'Malta', 'Netherlands', 'Norway', 'Poland', 'Portugal', 'RSA', 'Saudi Arabia', 'Singapore', 'Spain', 'Sweden', 'Switzerland', 'USA', 'United Arab Emirates', 'United Kingdom', 'Unspecified']\n"
     ]
    }
   ],
   "source": [
    "#Check the unique of the 'country'\n",
    "uni_country = df['Country'].unique()\n",
    "uni_country = sorted(uni_country)\n",
    "print(uni_country)"
   ]
  },
  {
   "cell_type": "code",
   "execution_count": 14,
   "id": "dec81b6c",
   "metadata": {
    "execution": {
     "iopub.execute_input": "2024-05-10T13:46:06.502039Z",
     "iopub.status.busy": "2024-05-10T13:46:06.501164Z",
     "iopub.status.idle": "2024-05-10T13:46:06.569855Z",
     "shell.execute_reply": "2024-05-10T13:46:06.568733Z"
    },
    "papermill": {
     "duration": 0.084445,
     "end_time": "2024-05-10T13:46:06.572408",
     "exception": false,
     "start_time": "2024-05-10T13:46:06.487963",
     "status": "completed"
    },
    "tags": []
   },
   "outputs": [
    {
     "data": {
      "text/html": [
       "<div>\n",
       "<style scoped>\n",
       "    .dataframe tbody tr th:only-of-type {\n",
       "        vertical-align: middle;\n",
       "    }\n",
       "\n",
       "    .dataframe tbody tr th {\n",
       "        vertical-align: top;\n",
       "    }\n",
       "\n",
       "    .dataframe thead th {\n",
       "        text-align: right;\n",
       "    }\n",
       "</style>\n",
       "<table border=\"1\" class=\"dataframe\">\n",
       "  <thead>\n",
       "    <tr style=\"text-align: right;\">\n",
       "      <th></th>\n",
       "      <th>count</th>\n",
       "      <th>mean</th>\n",
       "      <th>min</th>\n",
       "      <th>25%</th>\n",
       "      <th>50%</th>\n",
       "      <th>75%</th>\n",
       "      <th>max</th>\n",
       "      <th>std</th>\n",
       "    </tr>\n",
       "  </thead>\n",
       "  <tbody>\n",
       "    <tr>\n",
       "      <th>Quantity</th>\n",
       "      <td>401604.0</td>\n",
       "      <td>12.183273</td>\n",
       "      <td>-80995.0</td>\n",
       "      <td>2.0</td>\n",
       "      <td>5.0</td>\n",
       "      <td>12.0</td>\n",
       "      <td>80995.0</td>\n",
       "      <td>250.283037</td>\n",
       "    </tr>\n",
       "    <tr>\n",
       "      <th>InvoiceDate</th>\n",
       "      <td>401604</td>\n",
       "      <td>2011-07-10 12:08:23.848567552</td>\n",
       "      <td>2010-12-01 08:26:00</td>\n",
       "      <td>2011-04-06 15:02:00</td>\n",
       "      <td>2011-07-29 15:40:00</td>\n",
       "      <td>2011-10-20 11:58:30</td>\n",
       "      <td>2011-12-09 12:50:00</td>\n",
       "      <td>NaN</td>\n",
       "    </tr>\n",
       "    <tr>\n",
       "      <th>UnitPrice</th>\n",
       "      <td>401604.0</td>\n",
       "      <td>3.474064</td>\n",
       "      <td>0.0</td>\n",
       "      <td>1.25</td>\n",
       "      <td>1.95</td>\n",
       "      <td>3.75</td>\n",
       "      <td>38970.0</td>\n",
       "      <td>69.764035</td>\n",
       "    </tr>\n",
       "    <tr>\n",
       "      <th>CustomerID</th>\n",
       "      <td>401604.0</td>\n",
       "      <td>15281.160818</td>\n",
       "      <td>12346.0</td>\n",
       "      <td>13939.0</td>\n",
       "      <td>15145.0</td>\n",
       "      <td>16784.0</td>\n",
       "      <td>18287.0</td>\n",
       "      <td>1714.006089</td>\n",
       "    </tr>\n",
       "  </tbody>\n",
       "</table>\n",
       "</div>"
      ],
      "text/plain": [
       "                count                           mean                  min  \\\n",
       "Quantity     401604.0                      12.183273             -80995.0   \n",
       "InvoiceDate    401604  2011-07-10 12:08:23.848567552  2010-12-01 08:26:00   \n",
       "UnitPrice    401604.0                       3.474064                  0.0   \n",
       "CustomerID   401604.0                   15281.160818              12346.0   \n",
       "\n",
       "                             25%                  50%                  75%  \\\n",
       "Quantity                     2.0                  5.0                 12.0   \n",
       "InvoiceDate  2011-04-06 15:02:00  2011-07-29 15:40:00  2011-10-20 11:58:30   \n",
       "UnitPrice                   1.25                 1.95                 3.75   \n",
       "CustomerID               13939.0              15145.0              16784.0   \n",
       "\n",
       "                             max          std  \n",
       "Quantity                 80995.0   250.283037  \n",
       "InvoiceDate  2011-12-09 12:50:00          NaN  \n",
       "UnitPrice                38970.0    69.764035  \n",
       "CustomerID               18287.0  1714.006089  "
      ]
     },
     "execution_count": 14,
     "metadata": {},
     "output_type": "execute_result"
    }
   ],
   "source": [
    "df.describe().T"
   ]
  },
  {
   "cell_type": "code",
   "execution_count": 15,
   "id": "d1ecca38",
   "metadata": {
    "execution": {
     "iopub.execute_input": "2024-05-10T13:46:06.598908Z",
     "iopub.status.busy": "2024-05-10T13:46:06.598084Z",
     "iopub.status.idle": "2024-05-10T13:46:07.036659Z",
     "shell.execute_reply": "2024-05-10T13:46:07.035561Z"
    },
    "papermill": {
     "duration": 0.454298,
     "end_time": "2024-05-10T13:46:07.038935",
     "exception": false,
     "start_time": "2024-05-10T13:46:06.584637",
     "status": "completed"
    },
    "tags": []
   },
   "outputs": [
    {
     "data": {
      "text/html": [
       "<div>\n",
       "<style scoped>\n",
       "    .dataframe tbody tr th:only-of-type {\n",
       "        vertical-align: middle;\n",
       "    }\n",
       "\n",
       "    .dataframe tbody tr th {\n",
       "        vertical-align: top;\n",
       "    }\n",
       "\n",
       "    .dataframe thead th {\n",
       "        text-align: right;\n",
       "    }\n",
       "</style>\n",
       "<table border=\"1\" class=\"dataframe\">\n",
       "  <thead>\n",
       "    <tr style=\"text-align: right;\">\n",
       "      <th></th>\n",
       "      <th>count</th>\n",
       "      <th>unique</th>\n",
       "      <th>top</th>\n",
       "      <th>freq</th>\n",
       "    </tr>\n",
       "  </thead>\n",
       "  <tbody>\n",
       "    <tr>\n",
       "      <th>InvoiceNo</th>\n",
       "      <td>401604</td>\n",
       "      <td>22190</td>\n",
       "      <td>576339</td>\n",
       "      <td>542</td>\n",
       "    </tr>\n",
       "    <tr>\n",
       "      <th>StockCode</th>\n",
       "      <td>401604</td>\n",
       "      <td>3684</td>\n",
       "      <td>85123A</td>\n",
       "      <td>2065</td>\n",
       "    </tr>\n",
       "    <tr>\n",
       "      <th>Description</th>\n",
       "      <td>401604</td>\n",
       "      <td>3896</td>\n",
       "      <td>WHITE HANGING HEART T-LIGHT HOLDER</td>\n",
       "      <td>2058</td>\n",
       "    </tr>\n",
       "    <tr>\n",
       "      <th>Country</th>\n",
       "      <td>401604</td>\n",
       "      <td>37</td>\n",
       "      <td>United Kingdom</td>\n",
       "      <td>356728</td>\n",
       "    </tr>\n",
       "    <tr>\n",
       "      <th>Invoice_Date</th>\n",
       "      <td>401604</td>\n",
       "      <td>305</td>\n",
       "      <td>12/05/2011</td>\n",
       "      <td>3359</td>\n",
       "    </tr>\n",
       "    <tr>\n",
       "      <th>Invoice_Time</th>\n",
       "      <td>401604</td>\n",
       "      <td>773</td>\n",
       "      <td>13:35</td>\n",
       "      <td>1810</td>\n",
       "    </tr>\n",
       "  </tbody>\n",
       "</table>\n",
       "</div>"
      ],
      "text/plain": [
       "               count unique                                 top    freq\n",
       "InvoiceNo     401604  22190                              576339     542\n",
       "StockCode     401604   3684                              85123A    2065\n",
       "Description   401604   3896  WHITE HANGING HEART T-LIGHT HOLDER    2058\n",
       "Country       401604     37                      United Kingdom  356728\n",
       "Invoice_Date  401604    305                          12/05/2011    3359\n",
       "Invoice_Time  401604    773                               13:35    1810"
      ]
     },
     "execution_count": 15,
     "metadata": {},
     "output_type": "execute_result"
    }
   ],
   "source": [
    "df.describe(include = 'O').T"
   ]
  },
  {
   "cell_type": "code",
   "execution_count": 16,
   "id": "4e8e6634",
   "metadata": {
    "execution": {
     "iopub.execute_input": "2024-05-10T13:46:07.065909Z",
     "iopub.status.busy": "2024-05-10T13:46:07.065020Z",
     "iopub.status.idle": "2024-05-10T13:46:07.079521Z",
     "shell.execute_reply": "2024-05-10T13:46:07.078388Z"
    },
    "papermill": {
     "duration": 0.030486,
     "end_time": "2024-05-10T13:46:07.081814",
     "exception": false,
     "start_time": "2024-05-10T13:46:07.051328",
     "status": "completed"
    },
    "tags": []
   },
   "outputs": [
    {
     "data": {
      "text/plain": [
       "4372"
      ]
     },
     "execution_count": 16,
     "metadata": {},
     "output_type": "execute_result"
    }
   ],
   "source": [
    "df[\"CustomerID\"].nunique()"
   ]
  },
  {
   "cell_type": "code",
   "execution_count": 17,
   "id": "90b231dc",
   "metadata": {
    "execution": {
     "iopub.execute_input": "2024-05-10T13:46:07.108630Z",
     "iopub.status.busy": "2024-05-10T13:46:07.108266Z",
     "iopub.status.idle": "2024-05-10T13:46:07.127435Z",
     "shell.execute_reply": "2024-05-10T13:46:07.126096Z"
    },
    "papermill": {
     "duration": 0.035848,
     "end_time": "2024-05-10T13:46:07.130298",
     "exception": false,
     "start_time": "2024-05-10T13:46:07.094450",
     "status": "completed"
    },
    "tags": []
   },
   "outputs": [
    {
     "data": {
      "text/html": [
       "<div>\n",
       "<style scoped>\n",
       "    .dataframe tbody tr th:only-of-type {\n",
       "        vertical-align: middle;\n",
       "    }\n",
       "\n",
       "    .dataframe tbody tr th {\n",
       "        vertical-align: top;\n",
       "    }\n",
       "\n",
       "    .dataframe thead th {\n",
       "        text-align: right;\n",
       "    }\n",
       "</style>\n",
       "<table border=\"1\" class=\"dataframe\">\n",
       "  <thead>\n",
       "    <tr style=\"text-align: right;\">\n",
       "      <th></th>\n",
       "      <th>InvoiceNo</th>\n",
       "      <th>StockCode</th>\n",
       "      <th>Description</th>\n",
       "      <th>Quantity</th>\n",
       "      <th>InvoiceDate</th>\n",
       "      <th>UnitPrice</th>\n",
       "      <th>CustomerID</th>\n",
       "      <th>Country</th>\n",
       "      <th>Invoice_Date</th>\n",
       "      <th>Invoice_Time</th>\n",
       "      <th>TotalPrice</th>\n",
       "    </tr>\n",
       "  </thead>\n",
       "  <tbody>\n",
       "    <tr>\n",
       "      <th>0</th>\n",
       "      <td>536365</td>\n",
       "      <td>85123A</td>\n",
       "      <td>WHITE HANGING HEART T-LIGHT HOLDER</td>\n",
       "      <td>6</td>\n",
       "      <td>2010-12-01 08:26:00</td>\n",
       "      <td>2.55</td>\n",
       "      <td>17850.0</td>\n",
       "      <td>United Kingdom</td>\n",
       "      <td>12/01/2010</td>\n",
       "      <td>08:26</td>\n",
       "      <td>15.30</td>\n",
       "    </tr>\n",
       "    <tr>\n",
       "      <th>1</th>\n",
       "      <td>536365</td>\n",
       "      <td>71053</td>\n",
       "      <td>WHITE METAL LANTERN</td>\n",
       "      <td>6</td>\n",
       "      <td>2010-12-01 08:26:00</td>\n",
       "      <td>3.39</td>\n",
       "      <td>17850.0</td>\n",
       "      <td>United Kingdom</td>\n",
       "      <td>12/01/2010</td>\n",
       "      <td>08:26</td>\n",
       "      <td>20.34</td>\n",
       "    </tr>\n",
       "    <tr>\n",
       "      <th>2</th>\n",
       "      <td>536365</td>\n",
       "      <td>84406B</td>\n",
       "      <td>CREAM CUPID HEARTS COAT HANGER</td>\n",
       "      <td>8</td>\n",
       "      <td>2010-12-01 08:26:00</td>\n",
       "      <td>2.75</td>\n",
       "      <td>17850.0</td>\n",
       "      <td>United Kingdom</td>\n",
       "      <td>12/01/2010</td>\n",
       "      <td>08:26</td>\n",
       "      <td>22.00</td>\n",
       "    </tr>\n",
       "    <tr>\n",
       "      <th>3</th>\n",
       "      <td>536365</td>\n",
       "      <td>84029G</td>\n",
       "      <td>KNITTED UNION FLAG HOT WATER BOTTLE</td>\n",
       "      <td>6</td>\n",
       "      <td>2010-12-01 08:26:00</td>\n",
       "      <td>3.39</td>\n",
       "      <td>17850.0</td>\n",
       "      <td>United Kingdom</td>\n",
       "      <td>12/01/2010</td>\n",
       "      <td>08:26</td>\n",
       "      <td>20.34</td>\n",
       "    </tr>\n",
       "    <tr>\n",
       "      <th>4</th>\n",
       "      <td>536365</td>\n",
       "      <td>84029E</td>\n",
       "      <td>RED WOOLLY HOTTIE WHITE HEART.</td>\n",
       "      <td>6</td>\n",
       "      <td>2010-12-01 08:26:00</td>\n",
       "      <td>3.39</td>\n",
       "      <td>17850.0</td>\n",
       "      <td>United Kingdom</td>\n",
       "      <td>12/01/2010</td>\n",
       "      <td>08:26</td>\n",
       "      <td>20.34</td>\n",
       "    </tr>\n",
       "  </tbody>\n",
       "</table>\n",
       "</div>"
      ],
      "text/plain": [
       "  InvoiceNo StockCode                          Description  Quantity  \\\n",
       "0    536365    85123A   WHITE HANGING HEART T-LIGHT HOLDER         6   \n",
       "1    536365     71053                  WHITE METAL LANTERN         6   \n",
       "2    536365    84406B       CREAM CUPID HEARTS COAT HANGER         8   \n",
       "3    536365    84029G  KNITTED UNION FLAG HOT WATER BOTTLE         6   \n",
       "4    536365    84029E       RED WOOLLY HOTTIE WHITE HEART.         6   \n",
       "\n",
       "          InvoiceDate  UnitPrice  CustomerID         Country Invoice_Date  \\\n",
       "0 2010-12-01 08:26:00       2.55     17850.0  United Kingdom   12/01/2010   \n",
       "1 2010-12-01 08:26:00       3.39     17850.0  United Kingdom   12/01/2010   \n",
       "2 2010-12-01 08:26:00       2.75     17850.0  United Kingdom   12/01/2010   \n",
       "3 2010-12-01 08:26:00       3.39     17850.0  United Kingdom   12/01/2010   \n",
       "4 2010-12-01 08:26:00       3.39     17850.0  United Kingdom   12/01/2010   \n",
       "\n",
       "  Invoice_Time  TotalPrice  \n",
       "0        08:26       15.30  \n",
       "1        08:26       20.34  \n",
       "2        08:26       22.00  \n",
       "3        08:26       20.34  \n",
       "4        08:26       20.34  "
      ]
     },
     "execution_count": 17,
     "metadata": {},
     "output_type": "execute_result"
    }
   ],
   "source": [
    "#Calculating the TotalPrice per order (UnitPrice and Quantity)\n",
    "df[\"TotalPrice\"] = df[\"Quantity\"]*df[\"UnitPrice\"]\n",
    "df.head()"
   ]
  },
  {
   "cell_type": "code",
   "execution_count": 18,
   "id": "6e233f6d",
   "metadata": {
    "execution": {
     "iopub.execute_input": "2024-05-10T13:46:07.157966Z",
     "iopub.status.busy": "2024-05-10T13:46:07.157611Z",
     "iopub.status.idle": "2024-05-10T13:46:07.261196Z",
     "shell.execute_reply": "2024-05-10T13:46:07.259883Z"
    },
    "papermill": {
     "duration": 0.119968,
     "end_time": "2024-05-10T13:46:07.263533",
     "exception": false,
     "start_time": "2024-05-10T13:46:07.143565",
     "status": "completed"
    },
    "tags": []
   },
   "outputs": [
    {
     "name": "stdout",
     "output_type": "stream",
     "text": [
      "                      order_count\n",
      "Country                          \n",
      "United Kingdom              19857\n",
      "Germany                       603\n",
      "France                        458\n",
      "EIRE                          319\n",
      "Belgium                       119\n",
      "Spain                         105\n",
      "Netherlands                   101\n",
      "Switzerland                    71\n",
      "Portugal                       70\n",
      "Australia                      69\n",
      "Italy                          55\n",
      "Finland                        48\n",
      "Sweden                         46\n",
      "Norway                         40\n",
      "Channel Islands                33\n",
      "Japan                          28\n",
      "Poland                         24\n",
      "Denmark                        21\n",
      "Cyprus                         20\n",
      "Austria                        19\n",
      "Malta                          10\n",
      "Singapore                      10\n",
      "Unspecified                     8\n",
      "Iceland                         7\n",
      "USA                             7\n",
      "Israel                          6\n",
      "Greece                          6\n",
      "Canada                          6\n",
      "Czech Republic                  5\n",
      "European Community              5\n",
      "Lithuania                       4\n",
      "United Arab Emirates            3\n",
      "Saudi Arabia                    2\n",
      "Bahrain                         2\n",
      "Lebanon                         1\n",
      "RSA                             1\n",
      "Brazil                          1\n"
     ]
    }
   ],
   "source": [
    "#Find out the number of orders for each country separately.\n",
    "country_mask = df.groupby(['Country', 'InvoiceNo']).size().reset_index(name='order_count')\n",
    "country_order = country_mask.groupby('Country').agg(order_count=('order_count', 'count')).sort_values(by='order_count', ascending=False)\n",
    "print(country_order)"
   ]
  },
  {
   "cell_type": "code",
   "execution_count": 19,
   "id": "5d944a64",
   "metadata": {
    "execution": {
     "iopub.execute_input": "2024-05-10T13:46:07.291092Z",
     "iopub.status.busy": "2024-05-10T13:46:07.290741Z",
     "iopub.status.idle": "2024-05-10T13:46:08.035888Z",
     "shell.execute_reply": "2024-05-10T13:46:08.034486Z"
    },
    "papermill": {
     "duration": 0.762205,
     "end_time": "2024-05-10T13:46:08.038639",
     "exception": false,
     "start_time": "2024-05-10T13:46:07.276434",
     "status": "completed"
    },
    "tags": []
   },
   "outputs": [
    {
     "data": {
      "image/png": "[encoded data removed]",
      "text/plain": [
       "<Figure size 1000x600 with 1 Axes>"
      ]
     },
     "metadata": {},
     "output_type": "display_data"
    }
   ],
   "source": [
    "# Visualizing the number of orders for each country using a bar plot.\n",
    "# Set the figure size and define the width of the bars.\n",
    "plt.figure(figsize=(10, 6))\n",
    "bar_width = 0.5\n",
    "# drawing the plot\n",
    "plt.bar(np.arange(len(country_order.index)), country_order['order_count'], width=bar_width)\n",
    "\n",
    "for i, value in enumerate(country_order['order_count']):\n",
    "    plt.text(i, value + 1, str(value), ha='center', va='bottom')\n",
    "\n",
    "# title and label\n",
    "plt.title('Number of Orders for Each Country')\n",
    "plt.xlabel('Country')\n",
    "plt.ylabel('Number of Orders')\n",
    "\n",
    "plt.xticks(np.arange(len(country_order.index)), country_order.index, rotation=90)\n",
    "\n",
    "plt.tight_layout()\n",
    "plt.show()"
   ]
  },
  {
   "cell_type": "code",
   "execution_count": 20,
   "id": "5361b748",
   "metadata": {
    "execution": {
     "iopub.execute_input": "2024-05-10T13:46:08.127937Z",
     "iopub.status.busy": "2024-05-10T13:46:08.127566Z",
     "iopub.status.idle": "2024-05-10T13:46:08.613800Z",
     "shell.execute_reply": "2024-05-10T13:46:08.612645Z"
    },
    "papermill": {
     "duration": 0.563299,
     "end_time": "2024-05-10T13:46:08.616163",
     "exception": false,
     "start_time": "2024-05-10T13:46:08.052864",
     "status": "completed"
    },
    "tags": []
   },
   "outputs": [
    {
     "data": {
      "image/png": "[encoded data removed]",
      "text/plain": [
       "<Figure size 1200x600 with 1 Axes>"
      ]
     },
     "metadata": {},
     "output_type": "display_data"
    }
   ],
   "source": [
    "#Find out the total sales per month\n",
    "df['Invoice_Date'] = pd.to_datetime(df['Invoice_Date'])\n",
    "df['Month'] = df['Invoice_Date'].dt.to_period('M')\n",
    "monthly_sales = df.groupby('Month')['TotalPrice'].sum()\n",
    "x_labels = monthly_sales.index.strftime('%Y-%m')\n",
    "######################################################\n",
    "plt.figure(figsize=(12, 6))\n",
    "bars = plt.bar(x_labels, monthly_sales, color='skyblue')\n",
    "for bar in bars:\n",
    "    height = bar.get_height()\n",
    "    plt.text(bar.get_x() + bar.get_width() / 2, height, f'{int(height)}', ha='center', va='bottom')\n",
    "plt.title('Monthly Sales from Dec 2010 to Dec 2011')\n",
    "plt.xlabel('Month')\n",
    "plt.ylabel('Revenue')\n",
    "plt.xticks(rotation=0)\n",
    "plt.tight_layout()\n",
    "plt.show()"
   ]
  },
  {
   "cell_type": "code",
   "execution_count": 21,
   "id": "e13ad7f0",
   "metadata": {
    "execution": {
     "iopub.execute_input": "2024-05-10T13:46:08.647803Z",
     "iopub.status.busy": "2024-05-10T13:46:08.647436Z",
     "iopub.status.idle": "2024-05-10T13:46:08.654459Z",
     "shell.execute_reply": "2024-05-10T13:46:08.653099Z"
    },
    "papermill": {
     "duration": 0.025487,
     "end_time": "2024-05-10T13:46:08.656606",
     "exception": false,
     "start_time": "2024-05-10T13:46:08.631119",
     "status": "completed"
    },
    "tags": []
   },
   "outputs": [
    {
     "name": "stdout",
     "output_type": "stream",
     "text": [
      "Month\n",
      "2010-12     552372.860\n",
      "2011-01     473731.900\n",
      "2011-02     435534.070\n",
      "2011-03     578576.210\n",
      "2011-04     425222.671\n",
      "2011-05     647011.670\n",
      "2011-06     606862.520\n",
      "2011-07     573112.321\n",
      "2011-08     615078.090\n",
      "2011-09     929356.232\n",
      "2011-10     973306.380\n",
      "2011-11    1126815.070\n",
      "2011-12     341539.430\n",
      "Freq: M, Name: TotalPrice, dtype: float64\n"
     ]
    }
   ],
   "source": [
    "print(monthly_sales)"
   ]
  },
  {
   "cell_type": "code",
   "execution_count": 22,
   "id": "0a35b0b6",
   "metadata": {
    "execution": {
     "iopub.execute_input": "2024-05-10T13:46:08.689714Z",
     "iopub.status.busy": "2024-05-10T13:46:08.688725Z",
     "iopub.status.idle": "2024-05-10T13:46:08.754155Z",
     "shell.execute_reply": "2024-05-10T13:46:08.752742Z"
    },
    "papermill": {
     "duration": 0.084202,
     "end_time": "2024-05-10T13:46:08.756601",
     "exception": false,
     "start_time": "2024-05-10T13:46:08.672399",
     "status": "completed"
    },
    "tags": []
   },
   "outputs": [
    {
     "name": "stdout",
     "output_type": "stream",
     "text": [
      "                                    Quantity\n",
      "Description                                 \n",
      "WORLD WAR 2 GLIDERS ASSTD DESIGNS      53119\n",
      "JUMBO BAG RED RETROSPOT                44963\n",
      "ASSORTED COLOUR BIRD ORNAMENT          35215\n",
      "WHITE HANGING HEART T-LIGHT HOLDER     34128\n",
      "PACK OF 72 RETROSPOT CAKE CASES        33386\n",
      "POPCORN HOLDER                         30492\n",
      "RABBIT NIGHT LIGHT                     27045\n",
      "MINI PAINT SET VINTAGE                 25880\n",
      "PACK OF 12 LONDON TISSUES              25305\n",
      "PACK OF 60 PINK PAISLEY CAKE CASES     24129\n"
     ]
    }
   ],
   "source": [
    "#Top 10 products\n",
    "product_grouped = df.groupby('Description')\n",
    "quantity_product = product_grouped.agg({'Quantity':'sum'})\n",
    "quantity_product_top10 = quantity_product.nlargest(10, 'Quantity')\n",
    "print(quantity_product_top10)"
   ]
  },
  {
   "cell_type": "code",
   "execution_count": 23,
   "id": "e138b91c",
   "metadata": {
    "execution": {
     "iopub.execute_input": "2024-05-10T13:46:08.789703Z",
     "iopub.status.busy": "2024-05-10T13:46:08.789266Z",
     "iopub.status.idle": "2024-05-10T13:46:08.810234Z",
     "shell.execute_reply": "2024-05-10T13:46:08.808972Z"
    },
    "papermill": {
     "duration": 0.040726,
     "end_time": "2024-05-10T13:46:08.812583",
     "exception": false,
     "start_time": "2024-05-10T13:46:08.771857",
     "status": "completed"
    },
    "tags": []
   },
   "outputs": [
    {
     "name": "stdout",
     "output_type": "stream",
     "text": [
      "                                    Quantity  TotalPrice\n",
      "Description                                             \n",
      "REGENCY CAKESTAND 3 TIER               11529   132567.70\n",
      "WHITE HANGING HEART T-LIGHT HOLDER     34128    93767.80\n",
      "JUMBO BAG RED RETROSPOT                44963    83056.52\n",
      "PARTY BUNTING                          15015    67628.43\n",
      "POSTAGE                                 3002    66710.24\n",
      "ASSORTED COLOUR BIRD ORNAMENT          35215    56331.91\n",
      "RABBIT NIGHT LIGHT                     27045    51042.84\n",
      "CHILLI LIGHTS                           9566    45915.41\n",
      "PAPER CHAIN KIT 50'S CHRISTMAS         15138    41423.78\n",
      "PICNIC BASKET WICKER 60 PIECES            61    39619.50\n"
     ]
    }
   ],
   "source": [
    "topsale_revenue = product_grouped.agg({'Quantity':'sum', 'TotalPrice':'sum'})\n",
    "topsale_revenue_top10 = topsale_revenue.nlargest(10, 'TotalPrice')\n",
    "print(topsale_revenue_top10)"
   ]
  },
  {
   "cell_type": "code",
   "execution_count": 24,
   "id": "d4e3e955",
   "metadata": {
    "execution": {
     "iopub.execute_input": "2024-05-10T13:46:08.845875Z",
     "iopub.status.busy": "2024-05-10T13:46:08.845490Z",
     "iopub.status.idle": "2024-05-10T13:46:09.268120Z",
     "shell.execute_reply": "2024-05-10T13:46:09.266966Z"
    },
    "papermill": {
     "duration": 0.442552,
     "end_time": "2024-05-10T13:46:09.271057",
     "exception": false,
     "start_time": "2024-05-10T13:46:08.828505",
     "status": "completed"
    },
    "tags": []
   },
   "outputs": [
    {
     "data": {
      "image/png": "[encoded data removed]",
      "text/plain": [
       "<Figure size 1400x800 with 1 Axes>"
      ]
     },
     "metadata": {},
     "output_type": "display_data"
    }
   ],
   "source": [
    "plt.figure(figsize=(14, 8))\n",
    "plt.barh(quantity_product_top10.index, quantity_product_top10['Quantity'])\n",
    "\n",
    "plt.title('Top 10 Products by Quantity')\n",
    "plt.xlabel('Quantity')\n",
    "plt.ylabel('Product Description')\n",
    "\n",
    "for i, value in enumerate(quantity_product_top10['Quantity']):\n",
    "    plt.text(value, i, str(value), ha='left', va='center')\n",
    "\n",
    "plt.tight_layout()\n",
    "plt.show()"
   ]
  },
  {
   "cell_type": "code",
   "execution_count": 25,
   "id": "56425f87",
   "metadata": {
    "execution": {
     "iopub.execute_input": "2024-05-10T13:46:09.306875Z",
     "iopub.status.busy": "2024-05-10T13:46:09.306491Z",
     "iopub.status.idle": "2024-05-10T13:46:09.416019Z",
     "shell.execute_reply": "2024-05-10T13:46:09.414552Z"
    },
    "papermill": {
     "duration": 0.129828,
     "end_time": "2024-05-10T13:46:09.418332",
     "exception": false,
     "start_time": "2024-05-10T13:46:09.288504",
     "status": "completed"
    },
    "tags": []
   },
   "outputs": [
    {
     "name": "stdout",
     "output_type": "stream",
     "text": [
      "<class 'pandas.core.frame.DataFrame'>\n",
      "Index: 401604 entries, 0 to 541908\n",
      "Data columns (total 12 columns):\n",
      " #   Column        Non-Null Count   Dtype         \n",
      "---  ------        --------------   -----         \n",
      " 0   InvoiceNo     401604 non-null  object        \n",
      " 1   StockCode     401604 non-null  object        \n",
      " 2   Description   401604 non-null  object        \n",
      " 3   Quantity      401604 non-null  int64         \n",
      " 4   InvoiceDate   401604 non-null  datetime64[ns]\n",
      " 5   UnitPrice     401604 non-null  float64       \n",
      " 6   CustomerID    401604 non-null  float64       \n",
      " 7   Country       401604 non-null  object        \n",
      " 8   Invoice_Date  401604 non-null  datetime64[ns]\n",
      " 9   Invoice_Time  401604 non-null  object        \n",
      " 10  TotalPrice    401604 non-null  float64       \n",
      " 11  Month         401604 non-null  period[M]     \n",
      "dtypes: datetime64[ns](2), float64(3), int64(1), object(5), period[M](1)\n",
      "memory usage: 39.8+ MB\n"
     ]
    }
   ],
   "source": [
    "df.info()"
   ]
  },
  {
   "cell_type": "code",
   "execution_count": 26,
   "id": "074f0142",
   "metadata": {
    "execution": {
     "iopub.execute_input": "2024-05-10T13:46:09.453024Z",
     "iopub.status.busy": "2024-05-10T13:46:09.452645Z",
     "iopub.status.idle": "2024-05-10T13:46:09.459575Z",
     "shell.execute_reply": "2024-05-10T13:46:09.458539Z"
    },
    "papermill": {
     "duration": 0.026975,
     "end_time": "2024-05-10T13:46:09.461743",
     "exception": false,
     "start_time": "2024-05-10T13:46:09.434768",
     "status": "completed"
    },
    "tags": []
   },
   "outputs": [
    {
     "name": "stdout",
     "output_type": "stream",
     "text": [
      "2011-12-09 00:00:00\n"
     ]
    }
   ],
   "source": [
    "#Last date available in the df\n",
    "df['InvoiceDate'].max()\n",
    "\n",
    "now = pd.Timestamp(datetime(2011, 12, 9))\n",
    "print(now)"
   ]
  },
  {
   "cell_type": "markdown",
   "id": "1ec9efdd",
   "metadata": {
    "papermill": {
     "duration": 0.016964,
     "end_time": "2024-05-10T13:46:09.495258",
     "exception": false,
     "start_time": "2024-05-10T13:46:09.478294",
     "status": "completed"
    },
    "tags": []
   },
   "source": [
    "# RFM Analysis 。\n",
    "****RECENCY (R): Days since last purchase 。****\n",
    "****FREQUENCY (F): Total number of purchases 。****\n",
    "****MONETARY VALUE (M): Total money this customer spent.****"
   ]
  },
  {
   "cell_type": "code",
   "execution_count": 27,
   "id": "e581c569",
   "metadata": {
    "execution": {
     "iopub.execute_input": "2024-05-10T13:46:09.530346Z",
     "iopub.status.busy": "2024-05-10T13:46:09.529834Z",
     "iopub.status.idle": "2024-05-10T13:46:10.478385Z",
     "shell.execute_reply": "2024-05-10T13:46:10.477306Z"
    },
    "papermill": {
     "duration": 0.968947,
     "end_time": "2024-05-10T13:46:10.480862",
     "exception": false,
     "start_time": "2024-05-10T13:46:09.511915",
     "status": "completed"
    },
    "tags": []
   },
   "outputs": [],
   "source": [
    "# RFM Analysis is a marketing technique used to analyze customer behavior based on three factors: \n",
    "# We start by grouping the data by customer ID.\n",
    "RFMScore = df.groupby('CustomerID').agg({\n",
    "    # For each customer, calculate the number of days since their last purchase (Recency).\n",
    "    'InvoiceDate': lambda x: (now - x.max()).days,\n",
    "    # Count the number of invoices for each customer (Frequency).\n",
    "    'InvoiceNo': lambda x: x.count(),\n",
    "    # Calculate the total amount spent by each customer (Monetary).\n",
    "    'TotalPrice': lambda x: x.sum()\n",
    "})"
   ]
  },
  {
   "cell_type": "code",
   "execution_count": 28,
   "id": "d91aaed9",
   "metadata": {
    "execution": {
     "iopub.execute_input": "2024-05-10T13:46:10.517252Z",
     "iopub.status.busy": "2024-05-10T13:46:10.516835Z",
     "iopub.status.idle": "2024-05-10T13:46:10.528439Z",
     "shell.execute_reply": "2024-05-10T13:46:10.527335Z"
    },
    "papermill": {
     "duration": 0.032863,
     "end_time": "2024-05-10T13:46:10.530612",
     "exception": false,
     "start_time": "2024-05-10T13:46:10.497749",
     "status": "completed"
    },
    "tags": []
   },
   "outputs": [
    {
     "data": {
      "text/html": [
       "<div>\n",
       "<style scoped>\n",
       "    .dataframe tbody tr th:only-of-type {\n",
       "        vertical-align: middle;\n",
       "    }\n",
       "\n",
       "    .dataframe tbody tr th {\n",
       "        vertical-align: top;\n",
       "    }\n",
       "\n",
       "    .dataframe thead th {\n",
       "        text-align: right;\n",
       "    }\n",
       "</style>\n",
       "<table border=\"1\" class=\"dataframe\">\n",
       "  <thead>\n",
       "    <tr style=\"text-align: right;\">\n",
       "      <th></th>\n",
       "      <th>InvoiceDate</th>\n",
       "      <th>InvoiceNo</th>\n",
       "      <th>TotalPrice</th>\n",
       "    </tr>\n",
       "    <tr>\n",
       "      <th>CustomerID</th>\n",
       "      <th></th>\n",
       "      <th></th>\n",
       "      <th></th>\n",
       "    </tr>\n",
       "  </thead>\n",
       "  <tbody>\n",
       "    <tr>\n",
       "      <th>12346.0</th>\n",
       "      <td>324</td>\n",
       "      <td>2</td>\n",
       "      <td>0.00</td>\n",
       "    </tr>\n",
       "    <tr>\n",
       "      <th>12347.0</th>\n",
       "      <td>1</td>\n",
       "      <td>182</td>\n",
       "      <td>4310.00</td>\n",
       "    </tr>\n",
       "    <tr>\n",
       "      <th>12348.0</th>\n",
       "      <td>74</td>\n",
       "      <td>31</td>\n",
       "      <td>1797.24</td>\n",
       "    </tr>\n",
       "    <tr>\n",
       "      <th>12349.0</th>\n",
       "      <td>17</td>\n",
       "      <td>73</td>\n",
       "      <td>1757.55</td>\n",
       "    </tr>\n",
       "    <tr>\n",
       "      <th>12350.0</th>\n",
       "      <td>309</td>\n",
       "      <td>17</td>\n",
       "      <td>334.40</td>\n",
       "    </tr>\n",
       "  </tbody>\n",
       "</table>\n",
       "</div>"
      ],
      "text/plain": [
       "            InvoiceDate  InvoiceNo  TotalPrice\n",
       "CustomerID                                    \n",
       "12346.0             324          2        0.00\n",
       "12347.0               1        182     4310.00\n",
       "12348.0              74         31     1797.24\n",
       "12349.0              17         73     1757.55\n",
       "12350.0             309         17      334.40"
      ]
     },
     "execution_count": 28,
     "metadata": {},
     "output_type": "execute_result"
    }
   ],
   "source": [
    "RFMScore.head()"
   ]
  },
  {
   "cell_type": "code",
   "execution_count": 29,
   "id": "ed43425a",
   "metadata": {
    "execution": {
     "iopub.execute_input": "2024-05-10T13:46:10.565754Z",
     "iopub.status.busy": "2024-05-10T13:46:10.565375Z",
     "iopub.status.idle": "2024-05-10T13:46:10.571348Z",
     "shell.execute_reply": "2024-05-10T13:46:10.570263Z"
    },
    "papermill": {
     "duration": 0.026199,
     "end_time": "2024-05-10T13:46:10.573588",
     "exception": false,
     "start_time": "2024-05-10T13:46:10.547389",
     "status": "completed"
    },
    "tags": []
   },
   "outputs": [],
   "source": [
    "#Renaming the columns for better understanding\n",
    "RFMScore.rename(columns = {'InvoiceDate':'Recency','InvoiceNo':'Frequency','TotalPrice':'Monetary'},inplace = True)"
   ]
  },
  {
   "cell_type": "code",
   "execution_count": 30,
   "id": "f96c5983",
   "metadata": {
    "execution": {
     "iopub.execute_input": "2024-05-10T13:46:10.609791Z",
     "iopub.status.busy": "2024-05-10T13:46:10.609395Z",
     "iopub.status.idle": "2024-05-10T13:46:10.623774Z",
     "shell.execute_reply": "2024-05-10T13:46:10.622705Z"
    },
    "papermill": {
     "duration": 0.035597,
     "end_time": "2024-05-10T13:46:10.626342",
     "exception": false,
     "start_time": "2024-05-10T13:46:10.590745",
     "status": "completed"
    },
    "tags": []
   },
   "outputs": [
    {
     "data": {
      "text/html": [
       "<div>\n",
       "<style scoped>\n",
       "    .dataframe tbody tr th:only-of-type {\n",
       "        vertical-align: middle;\n",
       "    }\n",
       "\n",
       "    .dataframe tbody tr th {\n",
       "        vertical-align: top;\n",
       "    }\n",
       "\n",
       "    .dataframe thead th {\n",
       "        text-align: right;\n",
       "    }\n",
       "</style>\n",
       "<table border=\"1\" class=\"dataframe\">\n",
       "  <thead>\n",
       "    <tr style=\"text-align: right;\">\n",
       "      <th></th>\n",
       "      <th>CustomerID</th>\n",
       "      <th>Recency</th>\n",
       "      <th>Frequency</th>\n",
       "      <th>Monetary</th>\n",
       "    </tr>\n",
       "  </thead>\n",
       "  <tbody>\n",
       "    <tr>\n",
       "      <th>0</th>\n",
       "      <td>12346.0</td>\n",
       "      <td>324</td>\n",
       "      <td>2</td>\n",
       "      <td>0.00</td>\n",
       "    </tr>\n",
       "    <tr>\n",
       "      <th>1</th>\n",
       "      <td>12347.0</td>\n",
       "      <td>1</td>\n",
       "      <td>182</td>\n",
       "      <td>4310.00</td>\n",
       "    </tr>\n",
       "    <tr>\n",
       "      <th>2</th>\n",
       "      <td>12348.0</td>\n",
       "      <td>74</td>\n",
       "      <td>31</td>\n",
       "      <td>1797.24</td>\n",
       "    </tr>\n",
       "    <tr>\n",
       "      <th>3</th>\n",
       "      <td>12349.0</td>\n",
       "      <td>17</td>\n",
       "      <td>73</td>\n",
       "      <td>1757.55</td>\n",
       "    </tr>\n",
       "    <tr>\n",
       "      <th>4</th>\n",
       "      <td>12350.0</td>\n",
       "      <td>309</td>\n",
       "      <td>17</td>\n",
       "      <td>334.40</td>\n",
       "    </tr>\n",
       "    <tr>\n",
       "      <th>...</th>\n",
       "      <td>...</td>\n",
       "      <td>...</td>\n",
       "      <td>...</td>\n",
       "      <td>...</td>\n",
       "    </tr>\n",
       "    <tr>\n",
       "      <th>4367</th>\n",
       "      <td>18280.0</td>\n",
       "      <td>276</td>\n",
       "      <td>10</td>\n",
       "      <td>180.60</td>\n",
       "    </tr>\n",
       "    <tr>\n",
       "      <th>4368</th>\n",
       "      <td>18281.0</td>\n",
       "      <td>179</td>\n",
       "      <td>7</td>\n",
       "      <td>80.82</td>\n",
       "    </tr>\n",
       "    <tr>\n",
       "      <th>4369</th>\n",
       "      <td>18282.0</td>\n",
       "      <td>6</td>\n",
       "      <td>13</td>\n",
       "      <td>176.60</td>\n",
       "    </tr>\n",
       "    <tr>\n",
       "      <th>4370</th>\n",
       "      <td>18283.0</td>\n",
       "      <td>2</td>\n",
       "      <td>721</td>\n",
       "      <td>2045.53</td>\n",
       "    </tr>\n",
       "    <tr>\n",
       "      <th>4371</th>\n",
       "      <td>18287.0</td>\n",
       "      <td>41</td>\n",
       "      <td>70</td>\n",
       "      <td>1837.28</td>\n",
       "    </tr>\n",
       "  </tbody>\n",
       "</table>\n",
       "<p>4372 rows × 4 columns</p>\n",
       "</div>"
      ],
      "text/plain": [
       "      CustomerID  Recency  Frequency  Monetary\n",
       "0        12346.0      324          2      0.00\n",
       "1        12347.0        1        182   4310.00\n",
       "2        12348.0       74         31   1797.24\n",
       "3        12349.0       17         73   1757.55\n",
       "4        12350.0      309         17    334.40\n",
       "...          ...      ...        ...       ...\n",
       "4367     18280.0      276         10    180.60\n",
       "4368     18281.0      179          7     80.82\n",
       "4369     18282.0        6         13    176.60\n",
       "4370     18283.0        2        721   2045.53\n",
       "4371     18287.0       41         70   1837.28\n",
       "\n",
       "[4372 rows x 4 columns]"
      ]
     },
     "execution_count": 30,
     "metadata": {},
     "output_type": "execute_result"
    }
   ],
   "source": [
    "RFMScore.reset_index()"
   ]
  },
  {
   "cell_type": "code",
   "execution_count": 31,
   "id": "d1e80742",
   "metadata": {
    "execution": {
     "iopub.execute_input": "2024-05-10T13:46:10.671036Z",
     "iopub.status.busy": "2024-05-10T13:46:10.670130Z",
     "iopub.status.idle": "2024-05-10T13:46:10.690951Z",
     "shell.execute_reply": "2024-05-10T13:46:10.689801Z"
    },
    "papermill": {
     "duration": 0.045828,
     "end_time": "2024-05-10T13:46:10.693396",
     "exception": false,
     "start_time": "2024-05-10T13:46:10.647568",
     "status": "completed"
    },
    "tags": []
   },
   "outputs": [
    {
     "data": {
      "text/html": [
       "<div>\n",
       "<style scoped>\n",
       "    .dataframe tbody tr th:only-of-type {\n",
       "        vertical-align: middle;\n",
       "    }\n",
       "\n",
       "    .dataframe tbody tr th {\n",
       "        vertical-align: top;\n",
       "    }\n",
       "\n",
       "    .dataframe thead th {\n",
       "        text-align: right;\n",
       "    }\n",
       "</style>\n",
       "<table border=\"1\" class=\"dataframe\">\n",
       "  <thead>\n",
       "    <tr style=\"text-align: right;\">\n",
       "      <th></th>\n",
       "      <th>Recency</th>\n",
       "      <th>Frequency</th>\n",
       "      <th>Monetary</th>\n",
       "    </tr>\n",
       "  </thead>\n",
       "  <tbody>\n",
       "    <tr>\n",
       "      <th>count</th>\n",
       "      <td>4372.000000</td>\n",
       "      <td>4372.000000</td>\n",
       "      <td>4372.000000</td>\n",
       "    </tr>\n",
       "    <tr>\n",
       "      <th>mean</th>\n",
       "      <td>90.581199</td>\n",
       "      <td>91.858188</td>\n",
       "      <td>1893.531433</td>\n",
       "    </tr>\n",
       "    <tr>\n",
       "      <th>std</th>\n",
       "      <td>100.772139</td>\n",
       "      <td>229.223566</td>\n",
       "      <td>8218.696204</td>\n",
       "    </tr>\n",
       "    <tr>\n",
       "      <th>min</th>\n",
       "      <td>-1.000000</td>\n",
       "      <td>1.000000</td>\n",
       "      <td>-4287.630000</td>\n",
       "    </tr>\n",
       "    <tr>\n",
       "      <th>25%</th>\n",
       "      <td>15.000000</td>\n",
       "      <td>17.000000</td>\n",
       "      <td>291.795000</td>\n",
       "    </tr>\n",
       "    <tr>\n",
       "      <th>50%</th>\n",
       "      <td>49.000000</td>\n",
       "      <td>41.000000</td>\n",
       "      <td>644.070000</td>\n",
       "    </tr>\n",
       "    <tr>\n",
       "      <th>75%</th>\n",
       "      <td>142.000000</td>\n",
       "      <td>99.250000</td>\n",
       "      <td>1608.335000</td>\n",
       "    </tr>\n",
       "    <tr>\n",
       "      <th>max</th>\n",
       "      <td>372.000000</td>\n",
       "      <td>7812.000000</td>\n",
       "      <td>279489.020000</td>\n",
       "    </tr>\n",
       "  </tbody>\n",
       "</table>\n",
       "</div>"
      ],
      "text/plain": [
       "           Recency    Frequency       Monetary\n",
       "count  4372.000000  4372.000000    4372.000000\n",
       "mean     90.581199    91.858188    1893.531433\n",
       "std     100.772139   229.223566    8218.696204\n",
       "min      -1.000000     1.000000   -4287.630000\n",
       "25%      15.000000    17.000000     291.795000\n",
       "50%      49.000000    41.000000     644.070000\n",
       "75%     142.000000    99.250000    1608.335000\n",
       "max     372.000000  7812.000000  279489.020000"
      ]
     },
     "execution_count": 31,
     "metadata": {},
     "output_type": "execute_result"
    }
   ],
   "source": [
    "RFMScore.describe()"
   ]
  },
  {
   "cell_type": "code",
   "execution_count": 32,
   "id": "25cc7a72",
   "metadata": {
    "execution": {
     "iopub.execute_input": "2024-05-10T13:46:10.731879Z",
     "iopub.status.busy": "2024-05-10T13:46:10.730934Z",
     "iopub.status.idle": "2024-05-10T13:46:10.737381Z",
     "shell.execute_reply": "2024-05-10T13:46:10.736452Z"
    },
    "papermill": {
     "duration": 0.028773,
     "end_time": "2024-05-10T13:46:10.739631",
     "exception": false,
     "start_time": "2024-05-10T13:46:10.710858",
     "status": "completed"
    },
    "tags": []
   },
   "outputs": [],
   "source": [
    "quantiles = RFMScore.quantile(q=[0.25,0.50,0.75])"
   ]
  },
  {
   "cell_type": "code",
   "execution_count": 33,
   "id": "d650c9f2",
   "metadata": {
    "execution": {
     "iopub.execute_input": "2024-05-10T13:46:10.786260Z",
     "iopub.status.busy": "2024-05-10T13:46:10.785681Z",
     "iopub.status.idle": "2024-05-10T13:46:10.796963Z",
     "shell.execute_reply": "2024-05-10T13:46:10.795399Z"
    },
    "papermill": {
     "duration": 0.037673,
     "end_time": "2024-05-10T13:46:10.799975",
     "exception": false,
     "start_time": "2024-05-10T13:46:10.762302",
     "status": "completed"
    },
    "tags": []
   },
   "outputs": [
    {
     "name": "stdout",
     "output_type": "stream",
     "text": [
      "      Recency  Frequency  Monetary\n",
      "0.25     15.0      17.00   291.795\n",
      "0.50     49.0      41.00   644.070\n",
      "0.75    142.0      99.25  1608.335\n"
     ]
    }
   ],
   "source": [
    "print(quantiles)"
   ]
  },
  {
   "cell_type": "code",
   "execution_count": 34,
   "id": "05e0e990",
   "metadata": {
    "execution": {
     "iopub.execute_input": "2024-05-10T13:46:10.849698Z",
     "iopub.status.busy": "2024-05-10T13:46:10.848629Z",
     "iopub.status.idle": "2024-05-10T13:46:10.858669Z",
     "shell.execute_reply": "2024-05-10T13:46:10.857523Z"
    },
    "papermill": {
     "duration": 0.032575,
     "end_time": "2024-05-10T13:46:10.861124",
     "exception": false,
     "start_time": "2024-05-10T13:46:10.828549",
     "status": "completed"
    },
    "tags": []
   },
   "outputs": [
    {
     "data": {
      "text/plain": [
       "{'Recency': {0.25: 15.0, 0.5: 49.0, 0.75: 142.0},\n",
       " 'Frequency': {0.25: 17.0, 0.5: 41.0, 0.75: 99.25},\n",
       " 'Monetary': {0.25: 291.795, 0.5: 644.0699999999999, 0.75: 1608.335}}"
      ]
     },
     "execution_count": 34,
     "metadata": {},
     "output_type": "execute_result"
    }
   ],
   "source": [
    "#converting to dictionary format\n",
    "quantiles = quantiles.to_dict()\n",
    "quantiles"
   ]
  },
  {
   "cell_type": "code",
   "execution_count": 35,
   "id": "76990eaf",
   "metadata": {
    "execution": {
     "iopub.execute_input": "2024-05-10T13:46:10.897927Z",
     "iopub.status.busy": "2024-05-10T13:46:10.897550Z",
     "iopub.status.idle": "2024-05-10T13:46:10.903825Z",
     "shell.execute_reply": "2024-05-10T13:46:10.902635Z"
    },
    "papermill": {
     "duration": 0.027646,
     "end_time": "2024-05-10T13:46:10.906332",
     "exception": false,
     "start_time": "2024-05-10T13:46:10.878686",
     "status": "completed"
    },
    "tags": []
   },
   "outputs": [],
   "source": [
    "# Creating a function to group the customers into 4 based on Recency value\n",
    "# x = value\n",
    "# p = recency, monetary, frequency\n",
    "# d = quartiles dict\n",
    "# d[p][0.25] Extracts the value of p from the dictionary d using quartile indices [0.25], [0.5], and [0.75]\n",
    "# For Recency, the closer to the last transaction, the better\n",
    "def Recency_Score(x, p, d):\n",
    "    if x <= d[p][0.25]:  # If x (Recency) is less than or equal to the 25th percentile, assign a score of 1\n",
    "        return 1\n",
    "    elif x <= d[p][0.5]:  # If x (Recency) is less than or equal to the 50th percentile, assign a score of 2\n",
    "        return 2\n",
    "    elif x <= d[p][0.75]:  # If x (Recency) is less than or equal to the 75th percentile, assign a score of 3\n",
    "        return 3\n",
    "    else:  # Otherwise, assign a score of 4\n",
    "        return 4\n"
   ]
  },
  {
   "cell_type": "code",
   "execution_count": 36,
   "id": "20ffe42e",
   "metadata": {
    "execution": {
     "iopub.execute_input": "2024-05-10T13:46:10.947365Z",
     "iopub.status.busy": "2024-05-10T13:46:10.946952Z",
     "iopub.status.idle": "2024-05-10T13:46:10.953398Z",
     "shell.execute_reply": "2024-05-10T13:46:10.952105Z"
    },
    "papermill": {
     "duration": 0.030035,
     "end_time": "2024-05-10T13:46:10.955846",
     "exception": false,
     "start_time": "2024-05-10T13:46:10.925811",
     "status": "completed"
    },
    "tags": []
   },
   "outputs": [],
   "source": [
    "# Creating a function to group the customers into 4 based on Frequency and Monetary values\n",
    "# Frequency and Monetary: The more transactions and total transaction amount, the better\n",
    "def FreqMonet_Score(x, p, d):\n",
    "    if x <= d[p][0.25]:  # If x (Frequency or Monetary) is less than or equal to the 25th percentile, assign a score of 4\n",
    "        return 4\n",
    "    elif x <= d[p][0.5]:  # If x (Frequency or Monetary) is less than or equal to the 50th percentile, assign a score of 3\n",
    "        return 3\n",
    "    elif x <= d[p][0.75]:  # If x (Frequency or Monetary) is less than or equal to the 75th percentile, assign a score of 2\n",
    "        return 2\n",
    "    else:  # Otherwise, assign a score of 1\n",
    "        return 1"
   ]
  },
  {
   "cell_type": "code",
   "execution_count": 37,
   "id": "4b1f9b6b",
   "metadata": {
    "execution": {
     "iopub.execute_input": "2024-05-10T13:46:10.993337Z",
     "iopub.status.busy": "2024-05-10T13:46:10.992922Z",
     "iopub.status.idle": "2024-05-10T13:46:10.999980Z",
     "shell.execute_reply": "2024-05-10T13:46:10.998902Z"
    },
    "papermill": {
     "duration": 0.027984,
     "end_time": "2024-05-10T13:46:11.002270",
     "exception": false,
     "start_time": "2024-05-10T13:46:10.974286",
     "status": "completed"
    },
    "tags": []
   },
   "outputs": [
    {
     "data": {
      "text/plain": [
       "Index(['Recency', 'Frequency', 'Monetary'], dtype='object')"
      ]
     },
     "execution_count": 37,
     "metadata": {},
     "output_type": "execute_result"
    }
   ],
   "source": [
    "RFMScore.columns"
   ]
  },
  {
   "cell_type": "code",
   "execution_count": 38,
   "id": "e81c6654",
   "metadata": {
    "execution": {
     "iopub.execute_input": "2024-05-10T13:46:11.040458Z",
     "iopub.status.busy": "2024-05-10T13:46:11.039645Z",
     "iopub.status.idle": "2024-05-10T13:46:11.064992Z",
     "shell.execute_reply": "2024-05-10T13:46:11.063598Z"
    },
    "papermill": {
     "duration": 0.04766,
     "end_time": "2024-05-10T13:46:11.067471",
     "exception": false,
     "start_time": "2024-05-10T13:46:11.019811",
     "status": "completed"
    },
    "tags": []
   },
   "outputs": [],
   "source": [
    "# Applying the created function on the respective columns\n",
    "# Recency_Score(x,p,d):\n",
    "# x = value\n",
    "# p = recency, monetary_value, frequency\n",
    "# d = quartiles dict\n",
    "RFMScore['R'] = RFMScore['Recency'].apply(Recency_Score, args = ('Recency',quantiles))\n",
    "RFMScore['F'] = RFMScore['Frequency'].apply(FreqMonet_Score, args = ('Frequency',quantiles))\n",
    "RFMScore['M'] = RFMScore['Monetary'].apply(FreqMonet_Score, args = ('Monetary',quantiles))"
   ]
  },
  {
   "cell_type": "code",
   "execution_count": 39,
   "id": "6c1c5de1",
   "metadata": {
    "execution": {
     "iopub.execute_input": "2024-05-10T13:46:11.108905Z",
     "iopub.status.busy": "2024-05-10T13:46:11.108518Z",
     "iopub.status.idle": "2024-05-10T13:46:11.124800Z",
     "shell.execute_reply": "2024-05-10T13:46:11.123780Z"
    },
    "papermill": {
     "duration": 0.039455,
     "end_time": "2024-05-10T13:46:11.127014",
     "exception": false,
     "start_time": "2024-05-10T13:46:11.087559",
     "status": "completed"
    },
    "tags": []
   },
   "outputs": [
    {
     "data": {
      "text/html": [
       "<div>\n",
       "<style scoped>\n",
       "    .dataframe tbody tr th:only-of-type {\n",
       "        vertical-align: middle;\n",
       "    }\n",
       "\n",
       "    .dataframe tbody tr th {\n",
       "        vertical-align: top;\n",
       "    }\n",
       "\n",
       "    .dataframe thead th {\n",
       "        text-align: right;\n",
       "    }\n",
       "</style>\n",
       "<table border=\"1\" class=\"dataframe\">\n",
       "  <thead>\n",
       "    <tr style=\"text-align: right;\">\n",
       "      <th></th>\n",
       "      <th>Recency</th>\n",
       "      <th>Frequency</th>\n",
       "      <th>Monetary</th>\n",
       "      <th>R</th>\n",
       "      <th>F</th>\n",
       "      <th>M</th>\n",
       "    </tr>\n",
       "    <tr>\n",
       "      <th>CustomerID</th>\n",
       "      <th></th>\n",
       "      <th></th>\n",
       "      <th></th>\n",
       "      <th></th>\n",
       "      <th></th>\n",
       "      <th></th>\n",
       "    </tr>\n",
       "  </thead>\n",
       "  <tbody>\n",
       "    <tr>\n",
       "      <th>12346.0</th>\n",
       "      <td>324</td>\n",
       "      <td>2</td>\n",
       "      <td>0.00</td>\n",
       "      <td>4</td>\n",
       "      <td>4</td>\n",
       "      <td>4</td>\n",
       "    </tr>\n",
       "    <tr>\n",
       "      <th>12347.0</th>\n",
       "      <td>1</td>\n",
       "      <td>182</td>\n",
       "      <td>4310.00</td>\n",
       "      <td>1</td>\n",
       "      <td>1</td>\n",
       "      <td>1</td>\n",
       "    </tr>\n",
       "    <tr>\n",
       "      <th>12348.0</th>\n",
       "      <td>74</td>\n",
       "      <td>31</td>\n",
       "      <td>1797.24</td>\n",
       "      <td>3</td>\n",
       "      <td>3</td>\n",
       "      <td>1</td>\n",
       "    </tr>\n",
       "    <tr>\n",
       "      <th>12349.0</th>\n",
       "      <td>17</td>\n",
       "      <td>73</td>\n",
       "      <td>1757.55</td>\n",
       "      <td>2</td>\n",
       "      <td>2</td>\n",
       "      <td>1</td>\n",
       "    </tr>\n",
       "    <tr>\n",
       "      <th>12350.0</th>\n",
       "      <td>309</td>\n",
       "      <td>17</td>\n",
       "      <td>334.40</td>\n",
       "      <td>4</td>\n",
       "      <td>4</td>\n",
       "      <td>3</td>\n",
       "    </tr>\n",
       "    <tr>\n",
       "      <th>...</th>\n",
       "      <td>...</td>\n",
       "      <td>...</td>\n",
       "      <td>...</td>\n",
       "      <td>...</td>\n",
       "      <td>...</td>\n",
       "      <td>...</td>\n",
       "    </tr>\n",
       "    <tr>\n",
       "      <th>18280.0</th>\n",
       "      <td>276</td>\n",
       "      <td>10</td>\n",
       "      <td>180.60</td>\n",
       "      <td>4</td>\n",
       "      <td>4</td>\n",
       "      <td>4</td>\n",
       "    </tr>\n",
       "    <tr>\n",
       "      <th>18281.0</th>\n",
       "      <td>179</td>\n",
       "      <td>7</td>\n",
       "      <td>80.82</td>\n",
       "      <td>4</td>\n",
       "      <td>4</td>\n",
       "      <td>4</td>\n",
       "    </tr>\n",
       "    <tr>\n",
       "      <th>18282.0</th>\n",
       "      <td>6</td>\n",
       "      <td>13</td>\n",
       "      <td>176.60</td>\n",
       "      <td>1</td>\n",
       "      <td>4</td>\n",
       "      <td>4</td>\n",
       "    </tr>\n",
       "    <tr>\n",
       "      <th>18283.0</th>\n",
       "      <td>2</td>\n",
       "      <td>721</td>\n",
       "      <td>2045.53</td>\n",
       "      <td>1</td>\n",
       "      <td>1</td>\n",
       "      <td>1</td>\n",
       "    </tr>\n",
       "    <tr>\n",
       "      <th>18287.0</th>\n",
       "      <td>41</td>\n",
       "      <td>70</td>\n",
       "      <td>1837.28</td>\n",
       "      <td>2</td>\n",
       "      <td>2</td>\n",
       "      <td>1</td>\n",
       "    </tr>\n",
       "  </tbody>\n",
       "</table>\n",
       "<p>4372 rows × 6 columns</p>\n",
       "</div>"
      ],
      "text/plain": [
       "            Recency  Frequency  Monetary  R  F  M\n",
       "CustomerID                                       \n",
       "12346.0         324          2      0.00  4  4  4\n",
       "12347.0           1        182   4310.00  1  1  1\n",
       "12348.0          74         31   1797.24  3  3  1\n",
       "12349.0          17         73   1757.55  2  2  1\n",
       "12350.0         309         17    334.40  4  4  3\n",
       "...             ...        ...       ... .. .. ..\n",
       "18280.0         276         10    180.60  4  4  4\n",
       "18281.0         179          7     80.82  4  4  4\n",
       "18282.0           6         13    176.60  1  4  4\n",
       "18283.0           2        721   2045.53  1  1  1\n",
       "18287.0          41         70   1837.28  2  2  1\n",
       "\n",
       "[4372 rows x 6 columns]"
      ]
     },
     "execution_count": 39,
     "metadata": {},
     "output_type": "execute_result"
    }
   ],
   "source": [
    "RFMScore"
   ]
  },
  {
   "cell_type": "code",
   "execution_count": 40,
   "id": "35b72bc5",
   "metadata": {
    "execution": {
     "iopub.execute_input": "2024-05-10T13:46:11.167090Z",
     "iopub.status.busy": "2024-05-10T13:46:11.166700Z",
     "iopub.status.idle": "2024-05-10T13:46:11.175910Z",
     "shell.execute_reply": "2024-05-10T13:46:11.174677Z"
    },
    "papermill": {
     "duration": 0.033228,
     "end_time": "2024-05-10T13:46:11.178520",
     "exception": false,
     "start_time": "2024-05-10T13:46:11.145292",
     "status": "completed"
    },
    "tags": []
   },
   "outputs": [],
   "source": [
    "#Creating a new field 'RFMValue' to split the customers into 10 segments\n",
    "RFMScore['RFMValue'] = RFMScore[['R','F','M']].sum(axis = 1)"
   ]
  },
  {
   "cell_type": "code",
   "execution_count": 41,
   "id": "97e26129",
   "metadata": {
    "execution": {
     "iopub.execute_input": "2024-05-10T13:46:11.217753Z",
     "iopub.status.busy": "2024-05-10T13:46:11.217385Z",
     "iopub.status.idle": "2024-05-10T13:46:11.226146Z",
     "shell.execute_reply": "2024-05-10T13:46:11.225155Z"
    },
    "papermill": {
     "duration": 0.031597,
     "end_time": "2024-05-10T13:46:11.228741",
     "exception": false,
     "start_time": "2024-05-10T13:46:11.197144",
     "status": "completed"
    },
    "tags": []
   },
   "outputs": [
    {
     "data": {
      "text/plain": [
       "CustomerID\n",
       "12346.0    12\n",
       "12347.0     3\n",
       "12348.0     7\n",
       "12349.0     5\n",
       "12350.0    11\n",
       "           ..\n",
       "18280.0    12\n",
       "18281.0    12\n",
       "18282.0     9\n",
       "18283.0     3\n",
       "18287.0     5\n",
       "Name: RFMValue, Length: 4372, dtype: int64"
      ]
     },
     "execution_count": 41,
     "metadata": {},
     "output_type": "execute_result"
    }
   ],
   "source": [
    "#Creating a new field 'RFMValue' to split the customers into 10 segments\n",
    "RFMScore['RFMValue'] "
   ]
  },
  {
   "cell_type": "code",
   "execution_count": 42,
   "id": "d10ee0e7",
   "metadata": {
    "execution": {
     "iopub.execute_input": "2024-05-10T13:46:11.267098Z",
     "iopub.status.busy": "2024-05-10T13:46:11.266730Z",
     "iopub.status.idle": "2024-05-10T13:46:11.278516Z",
     "shell.execute_reply": "2024-05-10T13:46:11.277331Z"
    },
    "papermill": {
     "duration": 0.034314,
     "end_time": "2024-05-10T13:46:11.280925",
     "exception": false,
     "start_time": "2024-05-10T13:46:11.246611",
     "status": "completed"
    },
    "tags": []
   },
   "outputs": [],
   "source": [
    "RFMScore['RFMGroup'] = RFMScore.R.map(str) + RFMScore.F.map(str) + RFMScore.M.map(str)"
   ]
  },
  {
   "cell_type": "code",
   "execution_count": 43,
   "id": "070e15b2",
   "metadata": {
    "execution": {
     "iopub.execute_input": "2024-05-10T13:46:11.320363Z",
     "iopub.status.busy": "2024-05-10T13:46:11.319959Z",
     "iopub.status.idle": "2024-05-10T13:46:11.338453Z",
     "shell.execute_reply": "2024-05-10T13:46:11.337216Z"
    },
    "papermill": {
     "duration": 0.041188,
     "end_time": "2024-05-10T13:46:11.340851",
     "exception": false,
     "start_time": "2024-05-10T13:46:11.299663",
     "status": "completed"
    },
    "tags": []
   },
   "outputs": [
    {
     "data": {
      "text/html": [
       "<div>\n",
       "<style scoped>\n",
       "    .dataframe tbody tr th:only-of-type {\n",
       "        vertical-align: middle;\n",
       "    }\n",
       "\n",
       "    .dataframe tbody tr th {\n",
       "        vertical-align: top;\n",
       "    }\n",
       "\n",
       "    .dataframe thead th {\n",
       "        text-align: right;\n",
       "    }\n",
       "</style>\n",
       "<table border=\"1\" class=\"dataframe\">\n",
       "  <thead>\n",
       "    <tr style=\"text-align: right;\">\n",
       "      <th></th>\n",
       "      <th>CustomerID</th>\n",
       "      <th>Recency</th>\n",
       "      <th>Frequency</th>\n",
       "      <th>Monetary</th>\n",
       "      <th>R</th>\n",
       "      <th>F</th>\n",
       "      <th>M</th>\n",
       "      <th>RFMValue</th>\n",
       "      <th>RFMGroup</th>\n",
       "    </tr>\n",
       "  </thead>\n",
       "  <tbody>\n",
       "    <tr>\n",
       "      <th>0</th>\n",
       "      <td>12346.0</td>\n",
       "      <td>324</td>\n",
       "      <td>2</td>\n",
       "      <td>0.00</td>\n",
       "      <td>4</td>\n",
       "      <td>4</td>\n",
       "      <td>4</td>\n",
       "      <td>12</td>\n",
       "      <td>444</td>\n",
       "    </tr>\n",
       "    <tr>\n",
       "      <th>1</th>\n",
       "      <td>12347.0</td>\n",
       "      <td>1</td>\n",
       "      <td>182</td>\n",
       "      <td>4310.00</td>\n",
       "      <td>1</td>\n",
       "      <td>1</td>\n",
       "      <td>1</td>\n",
       "      <td>3</td>\n",
       "      <td>111</td>\n",
       "    </tr>\n",
       "    <tr>\n",
       "      <th>2</th>\n",
       "      <td>12348.0</td>\n",
       "      <td>74</td>\n",
       "      <td>31</td>\n",
       "      <td>1797.24</td>\n",
       "      <td>3</td>\n",
       "      <td>3</td>\n",
       "      <td>1</td>\n",
       "      <td>7</td>\n",
       "      <td>331</td>\n",
       "    </tr>\n",
       "    <tr>\n",
       "      <th>3</th>\n",
       "      <td>12349.0</td>\n",
       "      <td>17</td>\n",
       "      <td>73</td>\n",
       "      <td>1757.55</td>\n",
       "      <td>2</td>\n",
       "      <td>2</td>\n",
       "      <td>1</td>\n",
       "      <td>5</td>\n",
       "      <td>221</td>\n",
       "    </tr>\n",
       "    <tr>\n",
       "      <th>4</th>\n",
       "      <td>12350.0</td>\n",
       "      <td>309</td>\n",
       "      <td>17</td>\n",
       "      <td>334.40</td>\n",
       "      <td>4</td>\n",
       "      <td>4</td>\n",
       "      <td>3</td>\n",
       "      <td>11</td>\n",
       "      <td>443</td>\n",
       "    </tr>\n",
       "    <tr>\n",
       "      <th>...</th>\n",
       "      <td>...</td>\n",
       "      <td>...</td>\n",
       "      <td>...</td>\n",
       "      <td>...</td>\n",
       "      <td>...</td>\n",
       "      <td>...</td>\n",
       "      <td>...</td>\n",
       "      <td>...</td>\n",
       "      <td>...</td>\n",
       "    </tr>\n",
       "    <tr>\n",
       "      <th>4367</th>\n",
       "      <td>18280.0</td>\n",
       "      <td>276</td>\n",
       "      <td>10</td>\n",
       "      <td>180.60</td>\n",
       "      <td>4</td>\n",
       "      <td>4</td>\n",
       "      <td>4</td>\n",
       "      <td>12</td>\n",
       "      <td>444</td>\n",
       "    </tr>\n",
       "    <tr>\n",
       "      <th>4368</th>\n",
       "      <td>18281.0</td>\n",
       "      <td>179</td>\n",
       "      <td>7</td>\n",
       "      <td>80.82</td>\n",
       "      <td>4</td>\n",
       "      <td>4</td>\n",
       "      <td>4</td>\n",
       "      <td>12</td>\n",
       "      <td>444</td>\n",
       "    </tr>\n",
       "    <tr>\n",
       "      <th>4369</th>\n",
       "      <td>18282.0</td>\n",
       "      <td>6</td>\n",
       "      <td>13</td>\n",
       "      <td>176.60</td>\n",
       "      <td>1</td>\n",
       "      <td>4</td>\n",
       "      <td>4</td>\n",
       "      <td>9</td>\n",
       "      <td>144</td>\n",
       "    </tr>\n",
       "    <tr>\n",
       "      <th>4370</th>\n",
       "      <td>18283.0</td>\n",
       "      <td>2</td>\n",
       "      <td>721</td>\n",
       "      <td>2045.53</td>\n",
       "      <td>1</td>\n",
       "      <td>1</td>\n",
       "      <td>1</td>\n",
       "      <td>3</td>\n",
       "      <td>111</td>\n",
       "    </tr>\n",
       "    <tr>\n",
       "      <th>4371</th>\n",
       "      <td>18287.0</td>\n",
       "      <td>41</td>\n",
       "      <td>70</td>\n",
       "      <td>1837.28</td>\n",
       "      <td>2</td>\n",
       "      <td>2</td>\n",
       "      <td>1</td>\n",
       "      <td>5</td>\n",
       "      <td>221</td>\n",
       "    </tr>\n",
       "  </tbody>\n",
       "</table>\n",
       "<p>4372 rows × 9 columns</p>\n",
       "</div>"
      ],
      "text/plain": [
       "      CustomerID  Recency  Frequency  Monetary  R  F  M  RFMValue RFMGroup\n",
       "0        12346.0      324          2      0.00  4  4  4        12      444\n",
       "1        12347.0        1        182   4310.00  1  1  1         3      111\n",
       "2        12348.0       74         31   1797.24  3  3  1         7      331\n",
       "3        12349.0       17         73   1757.55  2  2  1         5      221\n",
       "4        12350.0      309         17    334.40  4  4  3        11      443\n",
       "...          ...      ...        ...       ... .. .. ..       ...      ...\n",
       "4367     18280.0      276         10    180.60  4  4  4        12      444\n",
       "4368     18281.0      179          7     80.82  4  4  4        12      444\n",
       "4369     18282.0        6         13    176.60  1  4  4         9      144\n",
       "4370     18283.0        2        721   2045.53  1  1  1         3      111\n",
       "4371     18287.0       41         70   1837.28  2  2  1         5      221\n",
       "\n",
       "[4372 rows x 9 columns]"
      ]
     },
     "execution_count": 43,
     "metadata": {},
     "output_type": "execute_result"
    }
   ],
   "source": [
    "RFMScore.reset_index()"
   ]
  },
  {
   "cell_type": "code",
   "execution_count": 44,
   "id": "a566aa44",
   "metadata": {
    "execution": {
     "iopub.execute_input": "2024-05-10T13:46:11.381560Z",
     "iopub.status.busy": "2024-05-10T13:46:11.380723Z",
     "iopub.status.idle": "2024-05-10T13:46:11.403892Z",
     "shell.execute_reply": "2024-05-10T13:46:11.402743Z"
    },
    "papermill": {
     "duration": 0.045868,
     "end_time": "2024-05-10T13:46:11.406311",
     "exception": false,
     "start_time": "2024-05-10T13:46:11.360443",
     "status": "completed"
    },
    "tags": []
   },
   "outputs": [
    {
     "data": {
      "text/html": [
       "<div>\n",
       "<style scoped>\n",
       "    .dataframe tbody tr th:only-of-type {\n",
       "        vertical-align: middle;\n",
       "    }\n",
       "\n",
       "    .dataframe tbody tr th {\n",
       "        vertical-align: top;\n",
       "    }\n",
       "\n",
       "    .dataframe thead th {\n",
       "        text-align: right;\n",
       "    }\n",
       "</style>\n",
       "<table border=\"1\" class=\"dataframe\">\n",
       "  <thead>\n",
       "    <tr style=\"text-align: right;\">\n",
       "      <th></th>\n",
       "      <th>CustomerID</th>\n",
       "      <th>Recency</th>\n",
       "      <th>Frequency</th>\n",
       "      <th>Monetary</th>\n",
       "      <th>R</th>\n",
       "      <th>F</th>\n",
       "      <th>M</th>\n",
       "      <th>RFMValue</th>\n",
       "      <th>RFMGroup</th>\n",
       "      <th>Customer_Level</th>\n",
       "    </tr>\n",
       "  </thead>\n",
       "  <tbody>\n",
       "    <tr>\n",
       "      <th>0</th>\n",
       "      <td>12346.0</td>\n",
       "      <td>324</td>\n",
       "      <td>2</td>\n",
       "      <td>0.00</td>\n",
       "      <td>4</td>\n",
       "      <td>4</td>\n",
       "      <td>4</td>\n",
       "      <td>12</td>\n",
       "      <td>444</td>\n",
       "      <td>Silver</td>\n",
       "    </tr>\n",
       "    <tr>\n",
       "      <th>1</th>\n",
       "      <td>12347.0</td>\n",
       "      <td>1</td>\n",
       "      <td>182</td>\n",
       "      <td>4310.00</td>\n",
       "      <td>1</td>\n",
       "      <td>1</td>\n",
       "      <td>1</td>\n",
       "      <td>3</td>\n",
       "      <td>111</td>\n",
       "      <td>Platinum</td>\n",
       "    </tr>\n",
       "    <tr>\n",
       "      <th>2</th>\n",
       "      <td>12348.0</td>\n",
       "      <td>74</td>\n",
       "      <td>31</td>\n",
       "      <td>1797.24</td>\n",
       "      <td>3</td>\n",
       "      <td>3</td>\n",
       "      <td>1</td>\n",
       "      <td>7</td>\n",
       "      <td>331</td>\n",
       "      <td>Diamond</td>\n",
       "    </tr>\n",
       "    <tr>\n",
       "      <th>3</th>\n",
       "      <td>12349.0</td>\n",
       "      <td>17</td>\n",
       "      <td>73</td>\n",
       "      <td>1757.55</td>\n",
       "      <td>2</td>\n",
       "      <td>2</td>\n",
       "      <td>1</td>\n",
       "      <td>5</td>\n",
       "      <td>221</td>\n",
       "      <td>Platinum</td>\n",
       "    </tr>\n",
       "    <tr>\n",
       "      <th>4</th>\n",
       "      <td>12350.0</td>\n",
       "      <td>309</td>\n",
       "      <td>17</td>\n",
       "      <td>334.40</td>\n",
       "      <td>4</td>\n",
       "      <td>4</td>\n",
       "      <td>3</td>\n",
       "      <td>11</td>\n",
       "      <td>443</td>\n",
       "      <td>Silver</td>\n",
       "    </tr>\n",
       "    <tr>\n",
       "      <th>...</th>\n",
       "      <td>...</td>\n",
       "      <td>...</td>\n",
       "      <td>...</td>\n",
       "      <td>...</td>\n",
       "      <td>...</td>\n",
       "      <td>...</td>\n",
       "      <td>...</td>\n",
       "      <td>...</td>\n",
       "      <td>...</td>\n",
       "      <td>...</td>\n",
       "    </tr>\n",
       "    <tr>\n",
       "      <th>4367</th>\n",
       "      <td>18280.0</td>\n",
       "      <td>276</td>\n",
       "      <td>10</td>\n",
       "      <td>180.60</td>\n",
       "      <td>4</td>\n",
       "      <td>4</td>\n",
       "      <td>4</td>\n",
       "      <td>12</td>\n",
       "      <td>444</td>\n",
       "      <td>Silver</td>\n",
       "    </tr>\n",
       "    <tr>\n",
       "      <th>4368</th>\n",
       "      <td>18281.0</td>\n",
       "      <td>179</td>\n",
       "      <td>7</td>\n",
       "      <td>80.82</td>\n",
       "      <td>4</td>\n",
       "      <td>4</td>\n",
       "      <td>4</td>\n",
       "      <td>12</td>\n",
       "      <td>444</td>\n",
       "      <td>Silver</td>\n",
       "    </tr>\n",
       "    <tr>\n",
       "      <th>4369</th>\n",
       "      <td>18282.0</td>\n",
       "      <td>6</td>\n",
       "      <td>13</td>\n",
       "      <td>176.60</td>\n",
       "      <td>1</td>\n",
       "      <td>4</td>\n",
       "      <td>4</td>\n",
       "      <td>9</td>\n",
       "      <td>144</td>\n",
       "      <td>Gold</td>\n",
       "    </tr>\n",
       "    <tr>\n",
       "      <th>4370</th>\n",
       "      <td>18283.0</td>\n",
       "      <td>2</td>\n",
       "      <td>721</td>\n",
       "      <td>2045.53</td>\n",
       "      <td>1</td>\n",
       "      <td>1</td>\n",
       "      <td>1</td>\n",
       "      <td>3</td>\n",
       "      <td>111</td>\n",
       "      <td>Platinum</td>\n",
       "    </tr>\n",
       "    <tr>\n",
       "      <th>4371</th>\n",
       "      <td>18287.0</td>\n",
       "      <td>41</td>\n",
       "      <td>70</td>\n",
       "      <td>1837.28</td>\n",
       "      <td>2</td>\n",
       "      <td>2</td>\n",
       "      <td>1</td>\n",
       "      <td>5</td>\n",
       "      <td>221</td>\n",
       "      <td>Platinum</td>\n",
       "    </tr>\n",
       "  </tbody>\n",
       "</table>\n",
       "<p>4372 rows × 10 columns</p>\n",
       "</div>"
      ],
      "text/plain": [
       "      CustomerID  Recency  Frequency  Monetary  R  F  M  RFMValue RFMGroup  \\\n",
       "0        12346.0      324          2      0.00  4  4  4        12      444   \n",
       "1        12347.0        1        182   4310.00  1  1  1         3      111   \n",
       "2        12348.0       74         31   1797.24  3  3  1         7      331   \n",
       "3        12349.0       17         73   1757.55  2  2  1         5      221   \n",
       "4        12350.0      309         17    334.40  4  4  3        11      443   \n",
       "...          ...      ...        ...       ... .. .. ..       ...      ...   \n",
       "4367     18280.0      276         10    180.60  4  4  4        12      444   \n",
       "4368     18281.0      179          7     80.82  4  4  4        12      444   \n",
       "4369     18282.0        6         13    176.60  1  4  4         9      144   \n",
       "4370     18283.0        2        721   2045.53  1  1  1         3      111   \n",
       "4371     18287.0       41         70   1837.28  2  2  1         5      221   \n",
       "\n",
       "     Customer_Level  \n",
       "0            Silver  \n",
       "1          Platinum  \n",
       "2           Diamond  \n",
       "3          Platinum  \n",
       "4            Silver  \n",
       "...             ...  \n",
       "4367         Silver  \n",
       "4368         Silver  \n",
       "4369           Gold  \n",
       "4370       Platinum  \n",
       "4371       Platinum  \n",
       "\n",
       "[4372 rows x 10 columns]"
      ]
     },
     "execution_count": 44,
     "metadata": {},
     "output_type": "execute_result"
    }
   ],
   "source": [
    "#Grouping the 10 segments of customers into 4 groups and naming them\n",
    "Customer_Level = ['Platinum','Diamond','Gold','Silver']\n",
    "score_cuts = pd.qcut(RFMScore.RFMValue, q=4, labels=Customer_Level)\n",
    "RFMScore['Customer_Level'] = score_cuts.values\n",
    "RFMScore = RFMScore.reset_index()\n",
    "RFMScore"
   ]
  },
  {
   "cell_type": "code",
   "execution_count": 45,
   "id": "b916fda5",
   "metadata": {
    "execution": {
     "iopub.execute_input": "2024-05-10T13:46:11.446093Z",
     "iopub.status.busy": "2024-05-10T13:46:11.445149Z",
     "iopub.status.idle": "2024-05-10T13:46:11.455342Z",
     "shell.execute_reply": "2024-05-10T13:46:11.454270Z"
    },
    "papermill": {
     "duration": 0.03317,
     "end_time": "2024-05-10T13:46:11.457969",
     "exception": false,
     "start_time": "2024-05-10T13:46:11.424799",
     "status": "completed"
    },
    "tags": []
   },
   "outputs": [
    {
     "data": {
      "text/plain": [
       "Customer_Level\n",
       "Silver       781\n",
       "Gold         985\n",
       "Platinum    1281\n",
       "Diamond     1325\n",
       "Name: count, dtype: int64"
      ]
     },
     "execution_count": 45,
     "metadata": {},
     "output_type": "execute_result"
    }
   ],
   "source": [
    "# Displaying the number of customers in each group\n",
    "#Silver       772\n",
    "#Gold         980\n",
    "#Platinum    1261\n",
    "#Diamond     1326\n",
    "cust_group = RFMScore['Customer_Level'].value_counts().sort_values()\n",
    "cust_group"
   ]
  },
  {
   "cell_type": "code",
   "execution_count": 46,
   "id": "30f418d0",
   "metadata": {
    "execution": {
     "iopub.execute_input": "2024-05-10T13:46:11.499030Z",
     "iopub.status.busy": "2024-05-10T13:46:11.498357Z",
     "iopub.status.idle": "2024-05-10T13:46:11.812020Z",
     "shell.execute_reply": "2024-05-10T13:46:11.810810Z"
    },
    "papermill": {
     "duration": 0.336925,
     "end_time": "2024-05-10T13:46:11.814438",
     "exception": false,
     "start_time": "2024-05-10T13:46:11.477513",
     "status": "completed"
    },
    "tags": []
   },
   "outputs": [
    {
     "name": "stderr",
     "output_type": "stream",
     "text": [
      "/opt/conda/lib/python3.10/site-packages/seaborn/categorical.py:641: FutureWarning: The default of observed=False is deprecated and will be changed to True in a future version of pandas. Pass observed=False to retain current behavior or observed=True to adopt the future default and silence this warning.\n",
      "  grouped_vals = vals.groupby(grouper)\n"
     ]
    },
    {
     "data": {
      "image/png": "[encoded data removed]",
      "text/plain": [
       "<Figure size 800x600 with 1 Axes>"
      ]
     },
     "metadata": {},
     "output_type": "display_data"
    }
   ],
   "source": [
    "#Displaying the customer groups and their counts in a barchart\n",
    "plt.figure(figsize=(8, 6))\n",
    "ax = sns.barplot(x=cust_group.index, y=cust_group.values, palette=\"Set2\")\n",
    "\n",
    "plt.title('Customer Level Distribution')\n",
    "plt.xlabel('Customer Level')\n",
    "plt.ylabel('Customer Count')\n",
    "\n",
    "plt.xticks(rotation=45)\n",
    "\n",
    "#for i, val in enumerate(cust_group.values): ax.text(i, val + 5, str(val), ha='center', va='bottom')\n",
    "\n",
    "plt.tight_layout()\n",
    "plt.show()"
   ]
  }
 ],
 "metadata": {
  "kaggle": {
   "accelerator": "none",
   "dataSources": [
    {
     "datasetId": 1985,
     "sourceId": 3404,
     "sourceType": "datasetVersion"
    }
   ],
   "dockerImageVersionId": 30698,
   "isGpuEnabled": false,
   "isInternetEnabled": false,
   "language": "python",
   "sourceType": "notebook"
  },
  "kernelspec": {
   "display_name": "Python 3",
   "language": "python",
   "name": "python3"
  },
  "language_info": {
   "codemirror_mode": {
    "name": "ipython",
    "version": 3
   },
   "file_extension": ".py",
   "mimetype": "text/x-python",
   "name": "python",
   "nbconvert_exporter": "python",
   "pygments_lexer": "ipython3",
   "version": "3.10.13"
  },
  "papermill": {
   "default_parameters": {},
   "duration": 21.626961,
   "end_time": "2024-05-10T13:46:12.556921",
   "environment_variables": {},
   "exception": null,
   "input_path": "__notebook__.ipynb",
   "output_path": "__notebook__.ipynb",
   "parameters": {},
   "start_time": "2024-05-10T13:45:50.929960",
   "version": "2.5.0"
  }
 },
 "nbformat": 4,
 "nbformat_minor": 5
}
